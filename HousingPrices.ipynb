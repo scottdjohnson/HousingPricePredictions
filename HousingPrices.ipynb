{
 "cells": [
  {
   "cell_type": "markdown",
   "metadata": {},
   "source": [
    "The following produces and evaluates a series of models for predicting housing prices in San Francisco, using sci-kit learn libraries. The data is based on: https://github.com/RuiChang123/Regression_for_house_price_estimation. \n",
    "\n",
    "Note that some of the grid search options are limited (eg Random Forest, AdaBoost) and some algorithms were not really pursued (Lasso and SVM) due to the time it took to finish training (if training even finished at all after letting it run overnight) or due to memory overflows (Random Forest). Because this notebook is for learning and demonstration purposes, we will just accept these limitations as they are here, as it is nice to have all the cells complete at a steady pace and finish in not much more than an hour or two.\n",
    "\n",
    "Finally, due to limitations of SageMaker (where this was deleveloped) the XGBoost and Keras/Tensorflow results can be found in a different notebook in this git repository.\n",
    "\n",
    "Now, onto the training and analysis. First, we import the necessary libraries and the data."
   ]
  },
  {
   "cell_type": "code",
   "execution_count": 1,
   "metadata": {},
   "outputs": [],
   "source": [
    "import boto3\n",
    "import pandas as pd\n",
    "import numpy as np\n",
    "from sagemaker import get_execution_role"
   ]
  },
  {
   "cell_type": "code",
   "execution_count": 2,
   "metadata": {},
   "outputs": [],
   "source": [
    "role = get_execution_role()\n",
    "bucket='scott-upload'\n",
    "data_key = 'housing_data_raw.csv'\n",
    "data_location = 's3://{}/{}'.format(bucket, data_key)"
   ]
  },
  {
   "cell_type": "code",
   "execution_count": 3,
   "metadata": {},
   "outputs": [],
   "source": [
    "housing = pd.read_csv(data_location)"
   ]
  },
  {
   "cell_type": "markdown",
   "metadata": {},
   "source": [
    "We checkpoint our dataset, so we do not have to start over from scratch in case we want to alter it later, and create a DataFrame for querying."
   ]
  },
  {
   "cell_type": "code",
   "execution_count": 5,
   "metadata": {},
   "outputs": [],
   "source": [
    "base_housing = housing.copy()\n",
    "df = pd.DataFrame(housing)"
   ]
  },
  {
   "cell_type": "markdown",
   "metadata": {},
   "source": [
    "Let's take a look at how this data is distributed across the various fields"
   ]
  },
  {
   "cell_type": "code",
   "execution_count": 4,
   "metadata": {},
   "outputs": [
    {
     "data": {
      "text/html": [
       "<div>\n",
       "<style scoped>\n",
       "    .dataframe tbody tr th:only-of-type {\n",
       "        vertical-align: middle;\n",
       "    }\n",
       "\n",
       "    .dataframe tbody tr th {\n",
       "        vertical-align: top;\n",
       "    }\n",
       "\n",
       "    .dataframe thead th {\n",
       "        text-align: right;\n",
       "    }\n",
       "</style>\n",
       "<table border=\"1\" class=\"dataframe\">\n",
       "  <thead>\n",
       "    <tr style=\"text-align: right;\">\n",
       "      <th></th>\n",
       "      <th>Unnamed: 0</th>\n",
       "      <th>bathrooms</th>\n",
       "      <th>bedrooms</th>\n",
       "      <th>finishedsqft</th>\n",
       "      <th>lastsoldprice</th>\n",
       "      <th>latitude</th>\n",
       "      <th>longitude</th>\n",
       "      <th>totalrooms</th>\n",
       "      <th>yearbuilt</th>\n",
       "      <th>zestimate</th>\n",
       "      <th>zipcode</th>\n",
       "      <th>zpid</th>\n",
       "    </tr>\n",
       "  </thead>\n",
       "  <tbody>\n",
       "    <tr>\n",
       "      <th>count</th>\n",
       "      <td>11330.000000</td>\n",
       "      <td>11330.000000</td>\n",
       "      <td>11330.000000</td>\n",
       "      <td>11330.000000</td>\n",
       "      <td>1.133000e+04</td>\n",
       "      <td>11330.000000</td>\n",
       "      <td>11330.000000</td>\n",
       "      <td>11330.000000</td>\n",
       "      <td>11330.000000</td>\n",
       "      <td>1.133000e+04</td>\n",
       "      <td>11330.000000</td>\n",
       "      <td>1.133000e+04</td>\n",
       "    </tr>\n",
       "    <tr>\n",
       "      <th>mean</th>\n",
       "      <td>9171.729214</td>\n",
       "      <td>1.980229</td>\n",
       "      <td>2.614475</td>\n",
       "      <td>1585.420918</td>\n",
       "      <td>1.263928e+06</td>\n",
       "      <td>37.759711</td>\n",
       "      <td>-122.436518</td>\n",
       "      <td>6.111562</td>\n",
       "      <td>1948.498147</td>\n",
       "      <td>1.565695e+06</td>\n",
       "      <td>94116.912004</td>\n",
       "      <td>3.689973e+07</td>\n",
       "    </tr>\n",
       "    <tr>\n",
       "      <th>std</th>\n",
       "      <td>4921.941074</td>\n",
       "      <td>1.047358</td>\n",
       "      <td>1.299457</td>\n",
       "      <td>921.978245</td>\n",
       "      <td>1.042079e+06</td>\n",
       "      <td>0.025578</td>\n",
       "      <td>0.030743</td>\n",
       "      <td>12.125819</td>\n",
       "      <td>37.911196</td>\n",
       "      <td>1.229417e+06</td>\n",
       "      <td>9.400877</td>\n",
       "      <td>7.800741e+07</td>\n",
       "    </tr>\n",
       "    <tr>\n",
       "      <th>min</th>\n",
       "      <td>2.000000</td>\n",
       "      <td>0.500000</td>\n",
       "      <td>0.000000</td>\n",
       "      <td>1.000000</td>\n",
       "      <td>5.350000e+02</td>\n",
       "      <td>37.708170</td>\n",
       "      <td>-122.510726</td>\n",
       "      <td>1.000000</td>\n",
       "      <td>1860.000000</td>\n",
       "      <td>4.323850e+05</td>\n",
       "      <td>94102.000000</td>\n",
       "      <td>1.506329e+07</td>\n",
       "    </tr>\n",
       "    <tr>\n",
       "      <th>25%</th>\n",
       "      <td>5039.750000</td>\n",
       "      <td>1.000000</td>\n",
       "      <td>2.000000</td>\n",
       "      <td>1019.000000</td>\n",
       "      <td>7.292500e+05</td>\n",
       "      <td>37.739286</td>\n",
       "      <td>-122.455157</td>\n",
       "      <td>4.000000</td>\n",
       "      <td>1916.000000</td>\n",
       "      <td>9.052375e+05</td>\n",
       "      <td>94110.000000</td>\n",
       "      <td>1.510847e+07</td>\n",
       "    </tr>\n",
       "    <tr>\n",
       "      <th>50%</th>\n",
       "      <td>9198.500000</td>\n",
       "      <td>2.000000</td>\n",
       "      <td>2.000000</td>\n",
       "      <td>1362.000000</td>\n",
       "      <td>9.900000e+05</td>\n",
       "      <td>37.760513</td>\n",
       "      <td>-122.432510</td>\n",
       "      <td>5.000000</td>\n",
       "      <td>1940.000000</td>\n",
       "      <td>1.230758e+06</td>\n",
       "      <td>94115.000000</td>\n",
       "      <td>1.515697e+07</td>\n",
       "    </tr>\n",
       "    <tr>\n",
       "      <th>75%</th>\n",
       "      <td>13374.750000</td>\n",
       "      <td>2.000000</td>\n",
       "      <td>3.000000</td>\n",
       "      <td>1876.000000</td>\n",
       "      <td>1.450000e+06</td>\n",
       "      <td>37.781386</td>\n",
       "      <td>-122.413359</td>\n",
       "      <td>7.000000</td>\n",
       "      <td>1986.000000</td>\n",
       "      <td>1.731170e+06</td>\n",
       "      <td>94123.000000</td>\n",
       "      <td>5.970040e+07</td>\n",
       "    </tr>\n",
       "    <tr>\n",
       "      <th>max</th>\n",
       "      <td>17632.000000</td>\n",
       "      <td>14.000000</td>\n",
       "      <td>20.000000</td>\n",
       "      <td>27275.000000</td>\n",
       "      <td>2.388900e+07</td>\n",
       "      <td>37.806083</td>\n",
       "      <td>-122.381201</td>\n",
       "      <td>1264.000000</td>\n",
       "      <td>2016.000000</td>\n",
       "      <td>1.553325e+07</td>\n",
       "      <td>94158.000000</td>\n",
       "      <td>2.146999e+09</td>\n",
       "    </tr>\n",
       "  </tbody>\n",
       "</table>\n",
       "</div>"
      ],
      "text/plain": [
       "         Unnamed: 0     bathrooms      bedrooms  finishedsqft  lastsoldprice  \\\n",
       "count  11330.000000  11330.000000  11330.000000  11330.000000   1.133000e+04   \n",
       "mean    9171.729214      1.980229      2.614475   1585.420918   1.263928e+06   \n",
       "std     4921.941074      1.047358      1.299457    921.978245   1.042079e+06   \n",
       "min        2.000000      0.500000      0.000000      1.000000   5.350000e+02   \n",
       "25%     5039.750000      1.000000      2.000000   1019.000000   7.292500e+05   \n",
       "50%     9198.500000      2.000000      2.000000   1362.000000   9.900000e+05   \n",
       "75%    13374.750000      2.000000      3.000000   1876.000000   1.450000e+06   \n",
       "max    17632.000000     14.000000     20.000000  27275.000000   2.388900e+07   \n",
       "\n",
       "           latitude     longitude    totalrooms     yearbuilt     zestimate  \\\n",
       "count  11330.000000  11330.000000  11330.000000  11330.000000  1.133000e+04   \n",
       "mean      37.759711   -122.436518      6.111562   1948.498147  1.565695e+06   \n",
       "std        0.025578      0.030743     12.125819     37.911196  1.229417e+06   \n",
       "min       37.708170   -122.510726      1.000000   1860.000000  4.323850e+05   \n",
       "25%       37.739286   -122.455157      4.000000   1916.000000  9.052375e+05   \n",
       "50%       37.760513   -122.432510      5.000000   1940.000000  1.230758e+06   \n",
       "75%       37.781386   -122.413359      7.000000   1986.000000  1.731170e+06   \n",
       "max       37.806083   -122.381201   1264.000000   2016.000000  1.553325e+07   \n",
       "\n",
       "            zipcode          zpid  \n",
       "count  11330.000000  1.133000e+04  \n",
       "mean   94116.912004  3.689973e+07  \n",
       "std        9.400877  7.800741e+07  \n",
       "min    94102.000000  1.506329e+07  \n",
       "25%    94110.000000  1.510847e+07  \n",
       "50%    94115.000000  1.515697e+07  \n",
       "75%    94123.000000  5.970040e+07  \n",
       "max    94158.000000  2.146999e+09  "
      ]
     },
     "execution_count": 4,
     "metadata": {},
     "output_type": "execute_result"
    }
   ],
   "source": [
    "housing.describe()"
   ]
  },
  {
   "cell_type": "markdown",
   "metadata": {},
   "source": [
    "Let's review a couple of charts of the data, to see how different fields relate to the sold price"
   ]
  },
  {
   "cell_type": "code",
   "execution_count": 6,
   "metadata": {},
   "outputs": [],
   "source": [
    "import matplotlib.pyplot as plt"
   ]
  },
  {
   "cell_type": "code",
   "execution_count": 7,
   "metadata": {},
   "outputs": [
    {
     "data": {
      "image/png": "[encoded data removed]",
      "text/plain": [
       "<Figure size 432x288 with 1 Axes>"
      ]
     },
     "metadata": {},
     "output_type": "display_data"
    }
   ],
   "source": [
    "x = housing['totalrooms']\n",
    "y = housing['lastsoldprice']\n",
    "plt.scatter(x,y)\n",
    "plt.show()"
   ]
  },
  {
   "cell_type": "markdown",
   "metadata": {},
   "source": [
    "This is an unusual looking graph, which is drastically skewed due to a single outlier. Let's take a closer look at it."
   ]
  },
  {
   "cell_type": "code",
   "execution_count": 8,
   "metadata": {},
   "outputs": [
    {
     "data": {
      "text/plain": [
       "7524        1.0\n",
       "11223       1.0\n",
       "3579        1.0\n",
       "2132        1.0\n",
       "5453        1.0\n",
       "2827        1.0\n",
       "7621        1.0\n",
       "4452        1.0\n",
       "8171        1.0\n",
       "3211        1.0\n",
       "9409        1.0\n",
       "92          1.0\n",
       "1976        1.0\n",
       "10988       1.0\n",
       "3179        1.0\n",
       "7455        1.0\n",
       "10433       1.0\n",
       "243         1.0\n",
       "5398        1.0\n",
       "2321        1.0\n",
       "10595       1.0\n",
       "7179        1.0\n",
       "2016        1.0\n",
       "595         1.0\n",
       "1304        1.0\n",
       "4144        1.0\n",
       "2567        1.0\n",
       "6719        1.0\n",
       "2757        1.0\n",
       "2449        1.0\n",
       "          ...  \n",
       "5209       19.0\n",
       "6162       19.0\n",
       "10698      20.0\n",
       "8782       20.0\n",
       "8964       20.0\n",
       "7381       20.0\n",
       "927        20.0\n",
       "7736       20.0\n",
       "2796       20.0\n",
       "9705       21.0\n",
       "1978       21.0\n",
       "7554       21.0\n",
       "4693       22.0\n",
       "929        23.0\n",
       "1194       23.0\n",
       "10287      23.0\n",
       "11004      23.0\n",
       "2765       23.0\n",
       "8288       24.0\n",
       "9201       24.0\n",
       "6860       24.0\n",
       "4802       26.0\n",
       "8087       26.0\n",
       "11083      27.0\n",
       "2601       28.0\n",
       "2750       28.0\n",
       "10727      28.0\n",
       "11175      33.0\n",
       "8300       94.0\n",
       "8967     1264.0\n",
       "Name: totalrooms, Length: 11330, dtype: float64"
      ]
     },
     "execution_count": 8,
     "metadata": {},
     "output_type": "execute_result"
    }
   ],
   "source": [
    "housing['totalrooms'].sort_values()"
   ]
  },
  {
   "cell_type": "markdown",
   "metadata": {},
   "source": [
    "We can see above that there are 1264 total rooms in one house, which is unlikely. We can take an even closer look at it, as well at the one just above it (with 94 rooms)."
   ]
  },
  {
   "cell_type": "code",
   "execution_count": 9,
   "metadata": {},
   "outputs": [
    {
     "data": {
      "text/html": [
       "<div>\n",
       "<style scoped>\n",
       "    .dataframe tbody tr th:only-of-type {\n",
       "        vertical-align: middle;\n",
       "    }\n",
       "\n",
       "    .dataframe tbody tr th {\n",
       "        vertical-align: top;\n",
       "    }\n",
       "\n",
       "    .dataframe thead th {\n",
       "        text-align: right;\n",
       "    }\n",
       "</style>\n",
       "<table border=\"1\" class=\"dataframe\">\n",
       "  <thead>\n",
       "    <tr style=\"text-align: right;\">\n",
       "      <th></th>\n",
       "      <th>Unnamed: 0</th>\n",
       "      <th>address</th>\n",
       "      <th>info</th>\n",
       "      <th>z_address</th>\n",
       "      <th>bathrooms</th>\n",
       "      <th>bedrooms</th>\n",
       "      <th>finishedsqft</th>\n",
       "      <th>lastsolddate</th>\n",
       "      <th>lastsoldprice</th>\n",
       "      <th>latitude</th>\n",
       "      <th>longitude</th>\n",
       "      <th>neighborhood</th>\n",
       "      <th>totalrooms</th>\n",
       "      <th>usecode</th>\n",
       "      <th>yearbuilt</th>\n",
       "      <th>zestimate</th>\n",
       "      <th>zindexvalue</th>\n",
       "      <th>zipcode</th>\n",
       "      <th>zpid</th>\n",
       "    </tr>\n",
       "  </thead>\n",
       "  <tbody>\n",
       "    <tr>\n",
       "      <th>8967</th>\n",
       "      <td>14048</td>\n",
       "      <td>Address: 2829 California Street #3C</td>\n",
       "      <td>San FranciscoSales price: 1375000Sales date: ...</td>\n",
       "      <td>2829 California St APT 3C</td>\n",
       "      <td>2.0</td>\n",
       "      <td>2.0</td>\n",
       "      <td>1264.0</td>\n",
       "      <td>03/14/2013</td>\n",
       "      <td>1375000.0</td>\n",
       "      <td>37.787654</td>\n",
       "      <td>-122.440902</td>\n",
       "      <td>Lower Pacific Heights</td>\n",
       "      <td>1264.0</td>\n",
       "      <td>Condominium</td>\n",
       "      <td>2012.0</td>\n",
       "      <td>1591608.0</td>\n",
       "      <td>1,146,900</td>\n",
       "      <td>94115.0</td>\n",
       "      <td>119684820.0</td>\n",
       "    </tr>\n",
       "  </tbody>\n",
       "</table>\n",
       "</div>"
      ],
      "text/plain": [
       "      Unnamed: 0                              address  \\\n",
       "8967       14048  Address: 2829 California Street #3C   \n",
       "\n",
       "                                                   info  \\\n",
       "8967   San FranciscoSales price: 1375000Sales date: ...   \n",
       "\n",
       "                      z_address  bathrooms  bedrooms  finishedsqft  \\\n",
       "8967  2829 California St APT 3C        2.0       2.0        1264.0   \n",
       "\n",
       "     lastsolddate  lastsoldprice   latitude   longitude  \\\n",
       "8967   03/14/2013      1375000.0  37.787654 -122.440902   \n",
       "\n",
       "               neighborhood  totalrooms      usecode  yearbuilt  zestimate  \\\n",
       "8967  Lower Pacific Heights      1264.0  Condominium     2012.0  1591608.0   \n",
       "\n",
       "     zindexvalue  zipcode         zpid  \n",
       "8967   1,146,900  94115.0  119684820.0  "
      ]
     },
     "execution_count": 9,
     "metadata": {},
     "output_type": "execute_result"
    }
   ],
   "source": [
    "df.iloc[[8967]]"
   ]
  },
  {
   "cell_type": "code",
   "execution_count": 10,
   "metadata": {},
   "outputs": [
    {
     "data": {
      "text/html": [
       "<div>\n",
       "<style scoped>\n",
       "    .dataframe tbody tr th:only-of-type {\n",
       "        vertical-align: middle;\n",
       "    }\n",
       "\n",
       "    .dataframe tbody tr th {\n",
       "        vertical-align: top;\n",
       "    }\n",
       "\n",
       "    .dataframe thead th {\n",
       "        text-align: right;\n",
       "    }\n",
       "</style>\n",
       "<table border=\"1\" class=\"dataframe\">\n",
       "  <thead>\n",
       "    <tr style=\"text-align: right;\">\n",
       "      <th></th>\n",
       "      <th>Unnamed: 0</th>\n",
       "      <th>address</th>\n",
       "      <th>info</th>\n",
       "      <th>z_address</th>\n",
       "      <th>bathrooms</th>\n",
       "      <th>bedrooms</th>\n",
       "      <th>finishedsqft</th>\n",
       "      <th>lastsolddate</th>\n",
       "      <th>lastsoldprice</th>\n",
       "      <th>latitude</th>\n",
       "      <th>longitude</th>\n",
       "      <th>neighborhood</th>\n",
       "      <th>totalrooms</th>\n",
       "      <th>usecode</th>\n",
       "      <th>yearbuilt</th>\n",
       "      <th>zestimate</th>\n",
       "      <th>zindexvalue</th>\n",
       "      <th>zipcode</th>\n",
       "      <th>zpid</th>\n",
       "    </tr>\n",
       "  </thead>\n",
       "  <tbody>\n",
       "    <tr>\n",
       "      <th>8300</th>\n",
       "      <td>13101</td>\n",
       "      <td>Address: 5264 3rd Street #304</td>\n",
       "      <td>San FranciscoSales price: 325000Sales date: 0...</td>\n",
       "      <td>5264 3rd St APT 304</td>\n",
       "      <td>2.0</td>\n",
       "      <td>2.0</td>\n",
       "      <td>805.0</td>\n",
       "      <td>07/18/2013</td>\n",
       "      <td>325000.0</td>\n",
       "      <td>37.729825</td>\n",
       "      <td>-122.392825</td>\n",
       "      <td>Bayview</td>\n",
       "      <td>94.0</td>\n",
       "      <td>Condominium</td>\n",
       "      <td>1993.0</td>\n",
       "      <td>502285.0</td>\n",
       "      <td>719,000</td>\n",
       "      <td>94124.0</td>\n",
       "      <td>15158931.0</td>\n",
       "    </tr>\n",
       "  </tbody>\n",
       "</table>\n",
       "</div>"
      ],
      "text/plain": [
       "      Unnamed: 0                        address  \\\n",
       "8300       13101  Address: 5264 3rd Street #304   \n",
       "\n",
       "                                                   info            z_address  \\\n",
       "8300   San FranciscoSales price: 325000Sales date: 0...  5264 3rd St APT 304   \n",
       "\n",
       "      bathrooms  bedrooms  finishedsqft lastsolddate  lastsoldprice  \\\n",
       "8300        2.0       2.0         805.0   07/18/2013       325000.0   \n",
       "\n",
       "       latitude   longitude neighborhood  totalrooms      usecode  yearbuilt  \\\n",
       "8300  37.729825 -122.392825      Bayview        94.0  Condominium     1993.0   \n",
       "\n",
       "      zestimate zindexvalue  zipcode        zpid  \n",
       "8300   502285.0     719,000  94124.0  15158931.0  "
      ]
     },
     "execution_count": 10,
     "metadata": {},
     "output_type": "execute_result"
    }
   ],
   "source": [
    "df.iloc[[8300]]"
   ]
  },
  {
   "cell_type": "markdown",
   "metadata": {},
   "source": [
    "In both cases, total rooms is almost definitely a mistake, probably a typo on data entry. So we will eliminate those data points. But first, let's look at the finished square feet."
   ]
  },
  {
   "cell_type": "code",
   "execution_count": 11,
   "metadata": {},
   "outputs": [
    {
     "data": {
      "image/png": "[encoded data removed]",
      "text/plain": [
       "<Figure size 432x288 with 1 Axes>"
      ]
     },
     "metadata": {},
     "output_type": "display_data"
    }
   ],
   "source": [
    "x = housing['finishedsqft']\n",
    "y = housing['lastsoldprice']\n",
    "plt.scatter(x,y)\n",
    "plt.show()"
   ]
  },
  {
   "cell_type": "code",
   "execution_count": 12,
   "metadata": {},
   "outputs": [
    {
     "data": {
      "text/plain": [
       "1618         1.0\n",
       "3405         1.0\n",
       "10652        1.0\n",
       "954          1.0\n",
       "11136        1.0\n",
       "5103         1.0\n",
       "916          1.0\n",
       "10967        1.0\n",
       "7383         1.0\n",
       "1465         1.0\n",
       "8134       243.0\n",
       "7300       244.0\n",
       "6485       250.0\n",
       "7621       252.0\n",
       "3199       264.0\n",
       "10988      265.0\n",
       "2499       291.0\n",
       "9156       292.0\n",
       "10553      292.0\n",
       "1734       307.0\n",
       "6588       329.0\n",
       "4214       360.0\n",
       "7455       362.0\n",
       "6936       365.0\n",
       "92         376.0\n",
       "4451       383.0\n",
       "3035       383.0\n",
       "4437       383.0\n",
       "1886       385.0\n",
       "9628       390.0\n",
       "          ...   \n",
       "523       6800.0\n",
       "2765      6807.0\n",
       "10159     6835.0\n",
       "2673      6850.0\n",
       "9547      6968.0\n",
       "1195      7000.0\n",
       "6676      7147.0\n",
       "6762      7260.0\n",
       "4807      7360.0\n",
       "625       7375.0\n",
       "8353      7500.0\n",
       "10727     7500.0\n",
       "1920      7750.0\n",
       "11175     7957.0\n",
       "1885      8000.0\n",
       "5408      8120.0\n",
       "2294      8125.0\n",
       "7137      8180.0\n",
       "3225      8335.0\n",
       "1611      8675.0\n",
       "8231      8820.0\n",
       "6766      8822.0\n",
       "7818      9125.0\n",
       "427       9190.0\n",
       "4575      9378.0\n",
       "5704      9540.0\n",
       "9650      9699.0\n",
       "8087     10000.0\n",
       "2750     10236.0\n",
       "4997     27275.0\n",
       "Name: finishedsqft, Length: 11330, dtype: float64"
      ]
     },
     "execution_count": 12,
     "metadata": {},
     "output_type": "execute_result"
    }
   ],
   "source": [
    "housing['finishedsqft'].sort_values()"
   ]
  },
  {
   "cell_type": "markdown",
   "metadata": {},
   "source": [
    "Along with the others, we will remove those listed at the top of the sorted list because 1 square foot is clearly inaccurate. The data also claims that there is a house in Pacific Heights with 2 bedrooms, 2 bathrooms, and is 27,000 square feet! Again, this is most likely an outlier so we will remove it."
   ]
  },
  {
   "cell_type": "code",
   "execution_count": 13,
   "metadata": {},
   "outputs": [
    {
     "data": {
      "text/plain": [
       "8134       243.0\n",
       "7300       244.0\n",
       "6485       250.0\n",
       "7621       252.0\n",
       "3199       264.0\n",
       "10988      265.0\n",
       "2499       291.0\n",
       "9156       292.0\n",
       "10553      292.0\n",
       "1734       307.0\n",
       "6588       329.0\n",
       "4214       360.0\n",
       "7455       362.0\n",
       "6936       365.0\n",
       "92         376.0\n",
       "3035       383.0\n",
       "4451       383.0\n",
       "4437       383.0\n",
       "1886       385.0\n",
       "6565       390.0\n",
       "9628       390.0\n",
       "10433      395.0\n",
       "7023       396.0\n",
       "11269      398.0\n",
       "16         398.0\n",
       "6698       400.0\n",
       "7368       400.0\n",
       "8465       409.0\n",
       "7607       409.0\n",
       "3179       410.0\n",
       "          ...   \n",
       "1617      6762.0\n",
       "523       6800.0\n",
       "2765      6807.0\n",
       "10159     6835.0\n",
       "2673      6850.0\n",
       "9547      6968.0\n",
       "1195      7000.0\n",
       "6676      7147.0\n",
       "6762      7260.0\n",
       "4807      7360.0\n",
       "625       7375.0\n",
       "8353      7500.0\n",
       "10727     7500.0\n",
       "1920      7750.0\n",
       "11175     7957.0\n",
       "1885      8000.0\n",
       "5408      8120.0\n",
       "2294      8125.0\n",
       "7137      8180.0\n",
       "3225      8335.0\n",
       "1611      8675.0\n",
       "8231      8820.0\n",
       "6766      8822.0\n",
       "7818      9125.0\n",
       "427       9190.0\n",
       "4575      9378.0\n",
       "5704      9540.0\n",
       "9650      9699.0\n",
       "8087     10000.0\n",
       "2750     10236.0\n",
       "Name: finishedsqft, Length: 11317, dtype: float64"
      ]
     },
     "execution_count": 13,
     "metadata": {},
     "output_type": "execute_result"
    }
   ],
   "source": [
    "def drop_outliers(data):\n",
    "    data = data.drop([1618])\n",
    "    data = data.drop([3405])\n",
    "    data = data.drop([10652])\n",
    "    data = data.drop([954])\n",
    "    data = data.drop([11136])\n",
    "    data = data.drop([5103])\n",
    "    data = data.drop([916])\n",
    "    data = data.drop([10967])\n",
    "    data = data.drop([7383])\n",
    "    data = data.drop([1465])\n",
    "    data = data.drop([8967])\n",
    "    data = data.drop([8300])\n",
    "    data = data.drop([4997])  \n",
    "    return data\n",
    "housing = drop_outliers(housing)\n",
    "housing['finishedsqft'].sort_values()"
   ]
  },
  {
   "cell_type": "code",
   "execution_count": 14,
   "metadata": {},
   "outputs": [
    {
     "data": {
      "image/png": "[encoded data removed]",
      "text/plain": [
       "<Figure size 432x288 with 1 Axes>"
      ]
     },
     "metadata": {},
     "output_type": "display_data"
    }
   ],
   "source": [
    "x = housing['finishedsqft']\n",
    "y = housing['lastsoldprice']\n",
    "plt.scatter(x,y)\n",
    "plt.show()"
   ]
  },
  {
   "cell_type": "markdown",
   "metadata": {},
   "source": [
    "That looks much better. Now let's modify the time values so that they are integers (UNIX time) instead of strings. This will allow regression algorithms to use them in training, for example, to determine that a house sold at one date will cost a different amount than the same or similar house sold on a different date."
   ]
  },
  {
   "cell_type": "code",
   "execution_count": 15,
   "metadata": {
    "scrolled": true
   },
   "outputs": [
    {
     "data": {
      "text/html": [
       "<div>\n",
       "<style scoped>\n",
       "    .dataframe tbody tr th:only-of-type {\n",
       "        vertical-align: middle;\n",
       "    }\n",
       "\n",
       "    .dataframe tbody tr th {\n",
       "        vertical-align: top;\n",
       "    }\n",
       "\n",
       "    .dataframe thead th {\n",
       "        text-align: right;\n",
       "    }\n",
       "</style>\n",
       "<table border=\"1\" class=\"dataframe\">\n",
       "  <thead>\n",
       "    <tr style=\"text-align: right;\">\n",
       "      <th></th>\n",
       "      <th>Unnamed: 0</th>\n",
       "      <th>address</th>\n",
       "      <th>info</th>\n",
       "      <th>z_address</th>\n",
       "      <th>bathrooms</th>\n",
       "      <th>bedrooms</th>\n",
       "      <th>finishedsqft</th>\n",
       "      <th>lastsolddate</th>\n",
       "      <th>lastsoldprice</th>\n",
       "      <th>latitude</th>\n",
       "      <th>longitude</th>\n",
       "      <th>neighborhood</th>\n",
       "      <th>totalrooms</th>\n",
       "      <th>usecode</th>\n",
       "      <th>yearbuilt</th>\n",
       "      <th>zestimate</th>\n",
       "      <th>zindexvalue</th>\n",
       "      <th>zipcode</th>\n",
       "      <th>zpid</th>\n",
       "      <th>lastsolddateint</th>\n",
       "    </tr>\n",
       "  </thead>\n",
       "  <tbody>\n",
       "    <tr>\n",
       "      <th>0</th>\n",
       "      <td>2</td>\n",
       "      <td>Address: 1160 Mission Street #2007</td>\n",
       "      <td>San FranciscoSales price: 1300000Sales date: ...</td>\n",
       "      <td>1160 Mission St UNIT 2007</td>\n",
       "      <td>2.0</td>\n",
       "      <td>2.0</td>\n",
       "      <td>1043.0</td>\n",
       "      <td>02/17/2016</td>\n",
       "      <td>1300000.0</td>\n",
       "      <td>37.778705</td>\n",
       "      <td>-122.412635</td>\n",
       "      <td>South of Market</td>\n",
       "      <td>4.0</td>\n",
       "      <td>Condominium</td>\n",
       "      <td>2007.0</td>\n",
       "      <td>1167508.0</td>\n",
       "      <td>975,700</td>\n",
       "      <td>94103.0</td>\n",
       "      <td>83152781.0</td>\n",
       "      <td>1.455667e+09</td>\n",
       "    </tr>\n",
       "    <tr>\n",
       "      <th>1</th>\n",
       "      <td>5</td>\n",
       "      <td>Address: 260 King Street #475</td>\n",
       "      <td>San FranciscoSales price: 750000Sales date: 0...</td>\n",
       "      <td>260 King St UNIT 475</td>\n",
       "      <td>1.0</td>\n",
       "      <td>1.0</td>\n",
       "      <td>903.0</td>\n",
       "      <td>02/17/2016</td>\n",
       "      <td>750000.0</td>\n",
       "      <td>37.777641</td>\n",
       "      <td>-122.393417</td>\n",
       "      <td>South of Market</td>\n",
       "      <td>3.0</td>\n",
       "      <td>Condominium</td>\n",
       "      <td>2004.0</td>\n",
       "      <td>823719.0</td>\n",
       "      <td>975,700</td>\n",
       "      <td>94107.0</td>\n",
       "      <td>69819817.0</td>\n",
       "      <td>1.455667e+09</td>\n",
       "    </tr>\n",
       "    <tr>\n",
       "      <th>2</th>\n",
       "      <td>7</td>\n",
       "      <td>Address: 560 Missouri Street #B</td>\n",
       "      <td>San FranciscoSales price: 1495000Sales date: ...</td>\n",
       "      <td>560 Missouri St # B</td>\n",
       "      <td>4.0</td>\n",
       "      <td>3.0</td>\n",
       "      <td>1425.0</td>\n",
       "      <td>02/17/2016</td>\n",
       "      <td>1495000.0</td>\n",
       "      <td>37.759198</td>\n",
       "      <td>-122.396516</td>\n",
       "      <td>Potrero Hill</td>\n",
       "      <td>6.0</td>\n",
       "      <td>Condominium</td>\n",
       "      <td>2003.0</td>\n",
       "      <td>1708594.0</td>\n",
       "      <td>1,277,600</td>\n",
       "      <td>94107.0</td>\n",
       "      <td>64972847.0</td>\n",
       "      <td>1.455667e+09</td>\n",
       "    </tr>\n",
       "    <tr>\n",
       "      <th>3</th>\n",
       "      <td>9</td>\n",
       "      <td>Address: 350 Missouri Street</td>\n",
       "      <td>San FranciscoSales price: 2700000Sales date: ...</td>\n",
       "      <td>350 Missouri St</td>\n",
       "      <td>3.0</td>\n",
       "      <td>3.0</td>\n",
       "      <td>2231.0</td>\n",
       "      <td>02/17/2016</td>\n",
       "      <td>2700000.0</td>\n",
       "      <td>37.761886</td>\n",
       "      <td>-122.396769</td>\n",
       "      <td>Potrero Hill</td>\n",
       "      <td>10.0</td>\n",
       "      <td>SingleFamily</td>\n",
       "      <td>1927.0</td>\n",
       "      <td>2411236.0</td>\n",
       "      <td>1,277,600</td>\n",
       "      <td>94107.0</td>\n",
       "      <td>15149489.0</td>\n",
       "      <td>1.455667e+09</td>\n",
       "    </tr>\n",
       "    <tr>\n",
       "      <th>4</th>\n",
       "      <td>11</td>\n",
       "      <td>Address: 3658 Folsom Street</td>\n",
       "      <td>San FranciscoSales price: 1530000Sales date: ...</td>\n",
       "      <td>3658 Folsom St</td>\n",
       "      <td>3.0</td>\n",
       "      <td>3.0</td>\n",
       "      <td>1300.0</td>\n",
       "      <td>02/17/2016</td>\n",
       "      <td>1530000.0</td>\n",
       "      <td>37.740795</td>\n",
       "      <td>-122.413453</td>\n",
       "      <td>Bernal Heights</td>\n",
       "      <td>4.0</td>\n",
       "      <td>SingleFamily</td>\n",
       "      <td>1900.0</td>\n",
       "      <td>1918539.0</td>\n",
       "      <td>1,248,000</td>\n",
       "      <td>94110.0</td>\n",
       "      <td>15161978.0</td>\n",
       "      <td>1.455667e+09</td>\n",
       "    </tr>\n",
       "    <tr>\n",
       "      <th>5</th>\n",
       "      <td>12</td>\n",
       "      <td>Address: 156 Lowell Street</td>\n",
       "      <td>San FranciscoSales price: 460000Sales date: 0...</td>\n",
       "      <td>156 Lowell St</td>\n",
       "      <td>1.0</td>\n",
       "      <td>2.0</td>\n",
       "      <td>1250.0</td>\n",
       "      <td>02/17/2016</td>\n",
       "      <td>460000.0</td>\n",
       "      <td>37.710226</td>\n",
       "      <td>-122.446027</td>\n",
       "      <td>Crocker Amazon</td>\n",
       "      <td>5.0</td>\n",
       "      <td>SingleFamily</td>\n",
       "      <td>1924.0</td>\n",
       "      <td>703392.0</td>\n",
       "      <td>823,000</td>\n",
       "      <td>94112.0</td>\n",
       "      <td>15178981.0</td>\n",
       "      <td>1.455667e+09</td>\n",
       "    </tr>\n",
       "    <tr>\n",
       "      <th>6</th>\n",
       "      <td>13</td>\n",
       "      <td>Address: 735 Lakeview Avenue</td>\n",
       "      <td>San FranciscoSales price: 532000Sales date: 0...</td>\n",
       "      <td>735 Lakeview Ave</td>\n",
       "      <td>1.0</td>\n",
       "      <td>3.0</td>\n",
       "      <td>1032.0</td>\n",
       "      <td>02/17/2016</td>\n",
       "      <td>532000.0</td>\n",
       "      <td>37.718024</td>\n",
       "      <td>-122.460332</td>\n",
       "      <td>Oceanview</td>\n",
       "      <td>6.0</td>\n",
       "      <td>SingleFamily</td>\n",
       "      <td>1939.0</td>\n",
       "      <td>741715.0</td>\n",
       "      <td>762,700</td>\n",
       "      <td>94112.0</td>\n",
       "      <td>15192274.0</td>\n",
       "      <td>1.455667e+09</td>\n",
       "    </tr>\n",
       "    <tr>\n",
       "      <th>7</th>\n",
       "      <td>14</td>\n",
       "      <td>Address: 430 Capistrano Avenue</td>\n",
       "      <td>San FranciscoSales price: 1050000Sales date: ...</td>\n",
       "      <td>430 Capistrano Ave</td>\n",
       "      <td>1.0</td>\n",
       "      <td>2.0</td>\n",
       "      <td>1200.0</td>\n",
       "      <td>02/17/2016</td>\n",
       "      <td>1050000.0</td>\n",
       "      <td>37.725204</td>\n",
       "      <td>-122.439273</td>\n",
       "      <td>Mission Terrace</td>\n",
       "      <td>5.0</td>\n",
       "      <td>SingleFamily</td>\n",
       "      <td>1924.0</td>\n",
       "      <td>1023650.0</td>\n",
       "      <td>992,600</td>\n",
       "      <td>94112.0</td>\n",
       "      <td>15141129.0</td>\n",
       "      <td>1.455667e+09</td>\n",
       "    </tr>\n",
       "    <tr>\n",
       "      <th>8</th>\n",
       "      <td>15</td>\n",
       "      <td>Address: 4135 23rd Street</td>\n",
       "      <td>San FranciscoSales price: 3500000Sales date: ...</td>\n",
       "      <td>4135 23rd St</td>\n",
       "      <td>3.5</td>\n",
       "      <td>4.0</td>\n",
       "      <td>2700.0</td>\n",
       "      <td>02/17/2016</td>\n",
       "      <td>3500000.0</td>\n",
       "      <td>37.752602</td>\n",
       "      <td>-122.435011</td>\n",
       "      <td>Noe Valley</td>\n",
       "      <td>9.0</td>\n",
       "      <td>SingleFamily</td>\n",
       "      <td>1912.0</td>\n",
       "      <td>3604950.0</td>\n",
       "      <td>1,782,000</td>\n",
       "      <td>94114.0</td>\n",
       "      <td>15131647.0</td>\n",
       "      <td>1.455667e+09</td>\n",
       "    </tr>\n",
       "    <tr>\n",
       "      <th>9</th>\n",
       "      <td>16</td>\n",
       "      <td>Address: 440 Steiner Street</td>\n",
       "      <td>San FranciscoSales price: 1500000Sales date: ...</td>\n",
       "      <td>440 Steiner St</td>\n",
       "      <td>2.0</td>\n",
       "      <td>3.0</td>\n",
       "      <td>2016.0</td>\n",
       "      <td>02/17/2016</td>\n",
       "      <td>1500000.0</td>\n",
       "      <td>37.773237</td>\n",
       "      <td>-122.432302</td>\n",
       "      <td>Hayes Valley</td>\n",
       "      <td>7.0</td>\n",
       "      <td>Condominium</td>\n",
       "      <td>1890.0</td>\n",
       "      <td>1547314.0</td>\n",
       "      <td>1,224,800</td>\n",
       "      <td>94117.0</td>\n",
       "      <td>118608077.0</td>\n",
       "      <td>1.455667e+09</td>\n",
       "    </tr>\n",
       "    <tr>\n",
       "      <th>10</th>\n",
       "      <td>18</td>\n",
       "      <td>Address: 414 Somerset Street</td>\n",
       "      <td>San FranciscoSales price: 848000Sales date: 0...</td>\n",
       "      <td>414 Somerset St</td>\n",
       "      <td>1.0</td>\n",
       "      <td>3.0</td>\n",
       "      <td>1798.0</td>\n",
       "      <td>02/17/2016</td>\n",
       "      <td>848000.0</td>\n",
       "      <td>37.726252</td>\n",
       "      <td>-122.407649</td>\n",
       "      <td>Portola</td>\n",
       "      <td>8.0</td>\n",
       "      <td>SingleFamily</td>\n",
       "      <td>1953.0</td>\n",
       "      <td>933506.0</td>\n",
       "      <td>888,400</td>\n",
       "      <td>94134.0</td>\n",
       "      <td>15170161.0</td>\n",
       "      <td>1.455667e+09</td>\n",
       "    </tr>\n",
       "    <tr>\n",
       "      <th>11</th>\n",
       "      <td>19</td>\n",
       "      <td>Address: 300 Berry Street #813</td>\n",
       "      <td>San FranciscoSales price: 1000000Sales date: ...</td>\n",
       "      <td>300 Berry St UNIT 813</td>\n",
       "      <td>1.0</td>\n",
       "      <td>1.0</td>\n",
       "      <td>761.0</td>\n",
       "      <td>02/17/2016</td>\n",
       "      <td>1000000.0</td>\n",
       "      <td>37.773929</td>\n",
       "      <td>-122.396240</td>\n",
       "      <td>South of Market</td>\n",
       "      <td>4.0</td>\n",
       "      <td>Condominium</td>\n",
       "      <td>2008.0</td>\n",
       "      <td>931039.0</td>\n",
       "      <td>975,700</td>\n",
       "      <td>94158.0</td>\n",
       "      <td>96023519.0</td>\n",
       "      <td>1.455667e+09</td>\n",
       "    </tr>\n",
       "    <tr>\n",
       "      <th>12</th>\n",
       "      <td>24</td>\n",
       "      <td>Address: 370 Church Street #F</td>\n",
       "      <td>San FranciscoSales price: 888000Sales date: 0...</td>\n",
       "      <td>370 Church St APT F</td>\n",
       "      <td>1.0</td>\n",
       "      <td>1.0</td>\n",
       "      <td>780.0</td>\n",
       "      <td>08/12/2015</td>\n",
       "      <td>863000.0</td>\n",
       "      <td>37.765062</td>\n",
       "      <td>-122.429077</td>\n",
       "      <td>Eureka Valley - Dolores Heights - Castro</td>\n",
       "      <td>4.0</td>\n",
       "      <td>Condominium</td>\n",
       "      <td>1981.0</td>\n",
       "      <td>847894.0</td>\n",
       "      <td>1,744,100</td>\n",
       "      <td>94114.0</td>\n",
       "      <td>15143549.0</td>\n",
       "      <td>1.439338e+09</td>\n",
       "    </tr>\n",
       "    <tr>\n",
       "      <th>13</th>\n",
       "      <td>25</td>\n",
       "      <td>Address: 10 22nd Avenue</td>\n",
       "      <td>San FranciscoSales price: 4888000Sales date: ...</td>\n",
       "      <td>10 22nd Ave</td>\n",
       "      <td>5.0</td>\n",
       "      <td>5.0</td>\n",
       "      <td>5786.0</td>\n",
       "      <td>02/16/2016</td>\n",
       "      <td>4888000.0</td>\n",
       "      <td>37.787088</td>\n",
       "      <td>-122.481741</td>\n",
       "      <td>Lake</td>\n",
       "      <td>12.0</td>\n",
       "      <td>SingleFamily</td>\n",
       "      <td>1926.0</td>\n",
       "      <td>7159444.0</td>\n",
       "      <td>2,244,500</td>\n",
       "      <td>94121.0</td>\n",
       "      <td>15089099.0</td>\n",
       "      <td>1.455581e+09</td>\n",
       "    </tr>\n",
       "    <tr>\n",
       "      <th>14</th>\n",
       "      <td>26</td>\n",
       "      <td>Address: 1847 10th Avenue</td>\n",
       "      <td>San FranciscoSales price: 1000000Sales date: ...</td>\n",
       "      <td>1847 10th Ave</td>\n",
       "      <td>2.0</td>\n",
       "      <td>2.0</td>\n",
       "      <td>1688.0</td>\n",
       "      <td>02/16/2016</td>\n",
       "      <td>1000000.0</td>\n",
       "      <td>37.753756</td>\n",
       "      <td>-122.466995</td>\n",
       "      <td>Inner Sunset</td>\n",
       "      <td>6.0</td>\n",
       "      <td>SingleFamily</td>\n",
       "      <td>1927.0</td>\n",
       "      <td>1106369.0</td>\n",
       "      <td>1,357,900</td>\n",
       "      <td>94122.0</td>\n",
       "      <td>15111864.0</td>\n",
       "      <td>1.455581e+09</td>\n",
       "    </tr>\n",
       "    <tr>\n",
       "      <th>15</th>\n",
       "      <td>27</td>\n",
       "      <td>Address: 442 Mangels Avenue</td>\n",
       "      <td>San FranciscoSales price: 210000Sales date: 0...</td>\n",
       "      <td>442 Mangels Ave</td>\n",
       "      <td>3.0</td>\n",
       "      <td>4.0</td>\n",
       "      <td>1619.0</td>\n",
       "      <td>02/16/2016</td>\n",
       "      <td>210000.0</td>\n",
       "      <td>37.733307</td>\n",
       "      <td>-122.447605</td>\n",
       "      <td>Sunnyside</td>\n",
       "      <td>7.0</td>\n",
       "      <td>SingleFamily</td>\n",
       "      <td>1966.0</td>\n",
       "      <td>1483668.0</td>\n",
       "      <td>1,038,200</td>\n",
       "      <td>94127.0</td>\n",
       "      <td>15137861.0</td>\n",
       "      <td>1.455581e+09</td>\n",
       "    </tr>\n",
       "    <tr>\n",
       "      <th>16</th>\n",
       "      <td>33</td>\n",
       "      <td>Address: 650 Turk Street #706</td>\n",
       "      <td>San FranciscoSales price: 525000Sales date: 0...</td>\n",
       "      <td>650 Turk St UNIT 706</td>\n",
       "      <td>1.0</td>\n",
       "      <td>0.0</td>\n",
       "      <td>398.0</td>\n",
       "      <td>02/12/2016</td>\n",
       "      <td>525000.0</td>\n",
       "      <td>37.782379</td>\n",
       "      <td>-122.420166</td>\n",
       "      <td>Van Ness - Civic Center</td>\n",
       "      <td>4.0</td>\n",
       "      <td>Condominium</td>\n",
       "      <td>2008.0</td>\n",
       "      <td>565702.0</td>\n",
       "      <td>855,500</td>\n",
       "      <td>94102.0</td>\n",
       "      <td>82785510.0</td>\n",
       "      <td>1.455235e+09</td>\n",
       "    </tr>\n",
       "    <tr>\n",
       "      <th>17</th>\n",
       "      <td>34</td>\n",
       "      <td>Address: 66 Rondel Place</td>\n",
       "      <td>San FranciscoSales price: 2300000Sales date: ...</td>\n",
       "      <td>66 Rondel Pl</td>\n",
       "      <td>4.5</td>\n",
       "      <td>4.0</td>\n",
       "      <td>2615.0</td>\n",
       "      <td>02/12/2016</td>\n",
       "      <td>2300000.0</td>\n",
       "      <td>37.763849</td>\n",
       "      <td>-122.421259</td>\n",
       "      <td>Mission</td>\n",
       "      <td>9.0</td>\n",
       "      <td>SingleFamily</td>\n",
       "      <td>1906.0</td>\n",
       "      <td>1613306.0</td>\n",
       "      <td>1,185,400</td>\n",
       "      <td>94103.0</td>\n",
       "      <td>15143880.0</td>\n",
       "      <td>1.455235e+09</td>\n",
       "    </tr>\n",
       "    <tr>\n",
       "      <th>18</th>\n",
       "      <td>35</td>\n",
       "      <td>Address: 1610 Sacramento Street #5</td>\n",
       "      <td>San FranciscoSales price: 1450000Sales date: ...</td>\n",
       "      <td>1610 Sacramento St APT 5</td>\n",
       "      <td>2.0</td>\n",
       "      <td>2.0</td>\n",
       "      <td>1252.0</td>\n",
       "      <td>02/12/2016</td>\n",
       "      <td>1450000.0</td>\n",
       "      <td>37.791904</td>\n",
       "      <td>-122.419806</td>\n",
       "      <td>Nob Hill</td>\n",
       "      <td>4.0</td>\n",
       "      <td>Condominium</td>\n",
       "      <td>2002.0</td>\n",
       "      <td>1386684.0</td>\n",
       "      <td>1,459,200</td>\n",
       "      <td>94109.0</td>\n",
       "      <td>61288302.0</td>\n",
       "      <td>1.455235e+09</td>\n",
       "    </tr>\n",
       "    <tr>\n",
       "      <th>19</th>\n",
       "      <td>36</td>\n",
       "      <td>Address: 1536 Pacific Avenue #1</td>\n",
       "      <td>San FranciscoSales price: 2500000Sales date: ...</td>\n",
       "      <td>1536 Pacific Ave # 1</td>\n",
       "      <td>2.0</td>\n",
       "      <td>3.0</td>\n",
       "      <td>1444.0</td>\n",
       "      <td>02/12/2016</td>\n",
       "      <td>2500000.0</td>\n",
       "      <td>37.795383</td>\n",
       "      <td>-122.420623</td>\n",
       "      <td>Nob Hill</td>\n",
       "      <td>6.0</td>\n",
       "      <td>Condominium</td>\n",
       "      <td>2009.0</td>\n",
       "      <td>2125825.0</td>\n",
       "      <td>1,459,200</td>\n",
       "      <td>94109.0</td>\n",
       "      <td>96039237.0</td>\n",
       "      <td>1.455235e+09</td>\n",
       "    </tr>\n",
       "    <tr>\n",
       "      <th>20</th>\n",
       "      <td>37</td>\n",
       "      <td>Address: 541 Prentiss Street</td>\n",
       "      <td>San FranciscoSales price: 171000Sales date: 0...</td>\n",
       "      <td>541 Prentiss St</td>\n",
       "      <td>2.0</td>\n",
       "      <td>3.0</td>\n",
       "      <td>1200.0</td>\n",
       "      <td>02/12/2016</td>\n",
       "      <td>171000.0</td>\n",
       "      <td>37.736390</td>\n",
       "      <td>-122.412103</td>\n",
       "      <td>Bernal Heights</td>\n",
       "      <td>5.0</td>\n",
       "      <td>SingleFamily</td>\n",
       "      <td>1953.0</td>\n",
       "      <td>1261487.0</td>\n",
       "      <td>1,248,000</td>\n",
       "      <td>94110.0</td>\n",
       "      <td>15163972.0</td>\n",
       "      <td>1.455235e+09</td>\n",
       "    </tr>\n",
       "    <tr>\n",
       "      <th>21</th>\n",
       "      <td>38</td>\n",
       "      <td>Address: 31 Hartford Street</td>\n",
       "      <td>San FranciscoSales price: 871500Sales date: 0...</td>\n",
       "      <td>31 Hartford St</td>\n",
       "      <td>1.0</td>\n",
       "      <td>2.0</td>\n",
       "      <td>1265.0</td>\n",
       "      <td>02/12/2016</td>\n",
       "      <td>871500.0</td>\n",
       "      <td>37.762070</td>\n",
       "      <td>-122.433690</td>\n",
       "      <td>Eureka Valley - Dolores Heights - Castro</td>\n",
       "      <td>5.0</td>\n",
       "      <td>Condominium</td>\n",
       "      <td>1902.0</td>\n",
       "      <td>1262136.0</td>\n",
       "      <td>1,744,100</td>\n",
       "      <td>94114.0</td>\n",
       "      <td>15144391.0</td>\n",
       "      <td>1.455235e+09</td>\n",
       "    </tr>\n",
       "    <tr>\n",
       "      <th>22</th>\n",
       "      <td>40</td>\n",
       "      <td>Address: 1600 Webster Street #106</td>\n",
       "      <td>San FranciscoSales price: 900000Sales date: 0...</td>\n",
       "      <td>1600 Webster St APT 106</td>\n",
       "      <td>1.0</td>\n",
       "      <td>1.0</td>\n",
       "      <td>859.0</td>\n",
       "      <td>02/12/2016</td>\n",
       "      <td>900000.0</td>\n",
       "      <td>37.785680</td>\n",
       "      <td>-122.430955</td>\n",
       "      <td>Lower Pacific Heights</td>\n",
       "      <td>4.0</td>\n",
       "      <td>Condominium</td>\n",
       "      <td>2005.0</td>\n",
       "      <td>820965.0</td>\n",
       "      <td>1,178,700</td>\n",
       "      <td>94115.0</td>\n",
       "      <td>64971357.0</td>\n",
       "      <td>1.455235e+09</td>\n",
       "    </tr>\n",
       "    <tr>\n",
       "      <th>23</th>\n",
       "      <td>41</td>\n",
       "      <td>Address: 233 18th Avenue</td>\n",
       "      <td>San FranciscoSales price: 1020000Sales date: ...</td>\n",
       "      <td>233 18th Ave</td>\n",
       "      <td>1.0</td>\n",
       "      <td>2.0</td>\n",
       "      <td>1308.0</td>\n",
       "      <td>02/12/2016</td>\n",
       "      <td>1020000.0</td>\n",
       "      <td>37.783586</td>\n",
       "      <td>-122.477794</td>\n",
       "      <td>Central Richmond</td>\n",
       "      <td>5.0</td>\n",
       "      <td>Condominium</td>\n",
       "      <td>1914.0</td>\n",
       "      <td>1077432.0</td>\n",
       "      <td>1,485,300</td>\n",
       "      <td>94121.0</td>\n",
       "      <td>79845847.0</td>\n",
       "      <td>1.455235e+09</td>\n",
       "    </tr>\n",
       "    <tr>\n",
       "      <th>24</th>\n",
       "      <td>42</td>\n",
       "      <td>Address: 248 17th Avenue</td>\n",
       "      <td>San FranciscoSales price: 1410500Sales date: ...</td>\n",
       "      <td>248 17th Ave</td>\n",
       "      <td>1.5</td>\n",
       "      <td>2.0</td>\n",
       "      <td>1429.0</td>\n",
       "      <td>02/12/2016</td>\n",
       "      <td>1410500.0</td>\n",
       "      <td>37.783401</td>\n",
       "      <td>-122.476049</td>\n",
       "      <td>Central Richmond</td>\n",
       "      <td>6.0</td>\n",
       "      <td>Condominium</td>\n",
       "      <td>1922.0</td>\n",
       "      <td>1170744.0</td>\n",
       "      <td>1,485,300</td>\n",
       "      <td>94121.0</td>\n",
       "      <td>79841409.0</td>\n",
       "      <td>1.455235e+09</td>\n",
       "    </tr>\n",
       "    <tr>\n",
       "      <th>25</th>\n",
       "      <td>43</td>\n",
       "      <td>Address: 1374 45th Avenue</td>\n",
       "      <td>San FranciscoSales price: 951000Sales date: 0...</td>\n",
       "      <td>1374 45th Ave</td>\n",
       "      <td>1.0</td>\n",
       "      <td>3.0</td>\n",
       "      <td>1771.0</td>\n",
       "      <td>02/12/2016</td>\n",
       "      <td>951000.0</td>\n",
       "      <td>37.761002</td>\n",
       "      <td>-122.504565</td>\n",
       "      <td>Outer Sunset</td>\n",
       "      <td>8.0</td>\n",
       "      <td>SingleFamily</td>\n",
       "      <td>1905.0</td>\n",
       "      <td>956441.0</td>\n",
       "      <td>1,031,800</td>\n",
       "      <td>94122.0</td>\n",
       "      <td>15103994.0</td>\n",
       "      <td>1.455235e+09</td>\n",
       "    </tr>\n",
       "    <tr>\n",
       "      <th>26</th>\n",
       "      <td>44</td>\n",
       "      <td>Address: 1087 Palou Avenue</td>\n",
       "      <td>San FranciscoSales price: 430000Sales date: 0...</td>\n",
       "      <td>1087 Palou Ave</td>\n",
       "      <td>2.0</td>\n",
       "      <td>3.0</td>\n",
       "      <td>1452.0</td>\n",
       "      <td>02/12/2016</td>\n",
       "      <td>430000.0</td>\n",
       "      <td>37.728354</td>\n",
       "      <td>-122.381454</td>\n",
       "      <td>Bayview</td>\n",
       "      <td>8.0</td>\n",
       "      <td>SingleFamily</td>\n",
       "      <td>1900.0</td>\n",
       "      <td>536665.0</td>\n",
       "      <td>731,900</td>\n",
       "      <td>94124.0</td>\n",
       "      <td>15153617.0</td>\n",
       "      <td>1.455235e+09</td>\n",
       "    </tr>\n",
       "    <tr>\n",
       "      <th>27</th>\n",
       "      <td>45</td>\n",
       "      <td>Address: 1486 Underwood Avenue</td>\n",
       "      <td>San FranciscoSales price: 680000Sales date: 0...</td>\n",
       "      <td>1486 Underwood Ave</td>\n",
       "      <td>2.0</td>\n",
       "      <td>3.0</td>\n",
       "      <td>1115.0</td>\n",
       "      <td>02/12/2016</td>\n",
       "      <td>680000.0</td>\n",
       "      <td>37.728777</td>\n",
       "      <td>-122.389531</td>\n",
       "      <td>Bayview</td>\n",
       "      <td>6.0</td>\n",
       "      <td>SingleFamily</td>\n",
       "      <td>1931.0</td>\n",
       "      <td>631581.0</td>\n",
       "      <td>731,900</td>\n",
       "      <td>94124.0</td>\n",
       "      <td>15154174.0</td>\n",
       "      <td>1.455235e+09</td>\n",
       "    </tr>\n",
       "    <tr>\n",
       "      <th>28</th>\n",
       "      <td>46</td>\n",
       "      <td>Address: 350 Lansdale Avenue</td>\n",
       "      <td>San FranciscoSales price: 1440000Sales date: ...</td>\n",
       "      <td>350 Lansdale Ave</td>\n",
       "      <td>3.0</td>\n",
       "      <td>3.0</td>\n",
       "      <td>2378.0</td>\n",
       "      <td>02/12/2016</td>\n",
       "      <td>1440000.0</td>\n",
       "      <td>37.735851</td>\n",
       "      <td>-122.458653</td>\n",
       "      <td>Westwood Highlands</td>\n",
       "      <td>8.0</td>\n",
       "      <td>SingleFamily</td>\n",
       "      <td>1940.0</td>\n",
       "      <td>1709182.0</td>\n",
       "      <td>1,424,100</td>\n",
       "      <td>94127.0</td>\n",
       "      <td>15135745.0</td>\n",
       "      <td>1.455235e+09</td>\n",
       "    </tr>\n",
       "    <tr>\n",
       "      <th>29</th>\n",
       "      <td>47</td>\n",
       "      <td>Address: 120 Ulloa Street</td>\n",
       "      <td>San FranciscoSales price: 1700000Sales date: ...</td>\n",
       "      <td>120 Ulloa St</td>\n",
       "      <td>2.5</td>\n",
       "      <td>2.0</td>\n",
       "      <td>2063.0</td>\n",
       "      <td>02/12/2016</td>\n",
       "      <td>1700000.0</td>\n",
       "      <td>37.744348</td>\n",
       "      <td>-122.455305</td>\n",
       "      <td>Forest Hill Extension</td>\n",
       "      <td>10.0</td>\n",
       "      <td>SingleFamily</td>\n",
       "      <td>1937.0</td>\n",
       "      <td>1755644.0</td>\n",
       "      <td>1,669,300</td>\n",
       "      <td>94127.0</td>\n",
       "      <td>15133658.0</td>\n",
       "      <td>1.455235e+09</td>\n",
       "    </tr>\n",
       "    <tr>\n",
       "      <th>...</th>\n",
       "      <td>...</td>\n",
       "      <td>...</td>\n",
       "      <td>...</td>\n",
       "      <td>...</td>\n",
       "      <td>...</td>\n",
       "      <td>...</td>\n",
       "      <td>...</td>\n",
       "      <td>...</td>\n",
       "      <td>...</td>\n",
       "      <td>...</td>\n",
       "      <td>...</td>\n",
       "      <td>...</td>\n",
       "      <td>...</td>\n",
       "      <td>...</td>\n",
       "      <td>...</td>\n",
       "      <td>...</td>\n",
       "      <td>...</td>\n",
       "      <td>...</td>\n",
       "      <td>...</td>\n",
       "      <td>...</td>\n",
       "    </tr>\n",
       "    <tr>\n",
       "      <th>11300</th>\n",
       "      <td>17554</td>\n",
       "      <td>Address: 1444 17th Avenue #101</td>\n",
       "      <td>San FranciscoSales price: 1600000Sales date: ...</td>\n",
       "      <td>1444 17th Ave # 101</td>\n",
       "      <td>3.0</td>\n",
       "      <td>3.0</td>\n",
       "      <td>1902.0</td>\n",
       "      <td>02/09/2016</td>\n",
       "      <td>1600000.0</td>\n",
       "      <td>37.760979</td>\n",
       "      <td>-122.474469</td>\n",
       "      <td>Inner Sunset</td>\n",
       "      <td>6.0</td>\n",
       "      <td>Condominium</td>\n",
       "      <td>1996.0</td>\n",
       "      <td>1416921.0</td>\n",
       "      <td>1,348,400</td>\n",
       "      <td>94122.0</td>\n",
       "      <td>15105664.0</td>\n",
       "      <td>1.454976e+09</td>\n",
       "    </tr>\n",
       "    <tr>\n",
       "      <th>11301</th>\n",
       "      <td>17555</td>\n",
       "      <td>Address: 1618 12th Avenue</td>\n",
       "      <td>San FranciscoSales price: 1625000Sales date: ...</td>\n",
       "      <td>1618 12th Ave</td>\n",
       "      <td>3.0</td>\n",
       "      <td>4.0</td>\n",
       "      <td>2900.0</td>\n",
       "      <td>02/09/2016</td>\n",
       "      <td>1625000.0</td>\n",
       "      <td>37.757906</td>\n",
       "      <td>-122.468775</td>\n",
       "      <td>Inner Sunset</td>\n",
       "      <td>8.0</td>\n",
       "      <td>Condominium</td>\n",
       "      <td>2001.0</td>\n",
       "      <td>1577278.0</td>\n",
       "      <td>1,348,400</td>\n",
       "      <td>94122.0</td>\n",
       "      <td>59718406.0</td>\n",
       "      <td>1.454976e+09</td>\n",
       "    </tr>\n",
       "    <tr>\n",
       "      <th>11302</th>\n",
       "      <td>17557</td>\n",
       "      <td>Address: 5696 Diamond Heights Boulevard</td>\n",
       "      <td>San FranciscoSales price: 2050000Sales date: ...</td>\n",
       "      <td>5696 Diamond Heights Blvd</td>\n",
       "      <td>3.5</td>\n",
       "      <td>3.0</td>\n",
       "      <td>2435.0</td>\n",
       "      <td>02/09/2016</td>\n",
       "      <td>2050000.0</td>\n",
       "      <td>37.738831</td>\n",
       "      <td>-122.439262</td>\n",
       "      <td>Diamond Heights</td>\n",
       "      <td>7.0</td>\n",
       "      <td>SingleFamily</td>\n",
       "      <td>1980.0</td>\n",
       "      <td>2022309.0</td>\n",
       "      <td>1,070,100</td>\n",
       "      <td>94131.0</td>\n",
       "      <td>15199559.0</td>\n",
       "      <td>1.454976e+09</td>\n",
       "    </tr>\n",
       "    <tr>\n",
       "      <th>11303</th>\n",
       "      <td>17562</td>\n",
       "      <td>Address: 901 Post Street #2</td>\n",
       "      <td>San FranciscoSales price: 885000Sales date: 0...</td>\n",
       "      <td>901 Post St # 2</td>\n",
       "      <td>2.0</td>\n",
       "      <td>3.0</td>\n",
       "      <td>1207.0</td>\n",
       "      <td>02/08/2016</td>\n",
       "      <td>885000.0</td>\n",
       "      <td>37.787089</td>\n",
       "      <td>-122.416761</td>\n",
       "      <td>Downtown</td>\n",
       "      <td>9.0</td>\n",
       "      <td>Condominium</td>\n",
       "      <td>2002.0</td>\n",
       "      <td>1559722.0</td>\n",
       "      <td>795,400</td>\n",
       "      <td>94109.0</td>\n",
       "      <td>61325028.0</td>\n",
       "      <td>1.454890e+09</td>\n",
       "    </tr>\n",
       "    <tr>\n",
       "      <th>11304</th>\n",
       "      <td>17563</td>\n",
       "      <td>Address: 66 Cleary Court #1504</td>\n",
       "      <td>San FranciscoSales price: 960000Sales date: 0...</td>\n",
       "      <td>66 Cleary Ct APT 1504</td>\n",
       "      <td>2.0</td>\n",
       "      <td>3.0</td>\n",
       "      <td>1106.0</td>\n",
       "      <td>02/08/2016</td>\n",
       "      <td>960000.0</td>\n",
       "      <td>37.784298</td>\n",
       "      <td>-122.427058</td>\n",
       "      <td>Western Addition</td>\n",
       "      <td>6.0</td>\n",
       "      <td>Condominium</td>\n",
       "      <td>1963.0</td>\n",
       "      <td>957769.0</td>\n",
       "      <td>971,300</td>\n",
       "      <td>94109.0</td>\n",
       "      <td>15076984.0</td>\n",
       "      <td>1.454890e+09</td>\n",
       "    </tr>\n",
       "    <tr>\n",
       "      <th>11305</th>\n",
       "      <td>17564</td>\n",
       "      <td>Address: 1800 Bryant Street #202</td>\n",
       "      <td>San FranciscoSales price: 825000Sales date: 0...</td>\n",
       "      <td>1800 Bryant St STE 202</td>\n",
       "      <td>2.0</td>\n",
       "      <td>1.0</td>\n",
       "      <td>935.0</td>\n",
       "      <td>02/08/2016</td>\n",
       "      <td>825000.0</td>\n",
       "      <td>37.764088</td>\n",
       "      <td>-122.410828</td>\n",
       "      <td>Mission</td>\n",
       "      <td>3.0</td>\n",
       "      <td>Condominium</td>\n",
       "      <td>2000.0</td>\n",
       "      <td>888562.0</td>\n",
       "      <td>1,167,700</td>\n",
       "      <td>94110.0</td>\n",
       "      <td>54487721.0</td>\n",
       "      <td>1.454890e+09</td>\n",
       "    </tr>\n",
       "    <tr>\n",
       "      <th>11306</th>\n",
       "      <td>17565</td>\n",
       "      <td>Address: 3919 17th Street</td>\n",
       "      <td>San FranciscoSales price: 1065000Sales date: ...</td>\n",
       "      <td>3919 17th St</td>\n",
       "      <td>1.0</td>\n",
       "      <td>2.0</td>\n",
       "      <td>968.0</td>\n",
       "      <td>02/08/2016</td>\n",
       "      <td>1065000.0</td>\n",
       "      <td>37.762410</td>\n",
       "      <td>-122.433456</td>\n",
       "      <td>Eureka Valley - Dolores Heights - Castro</td>\n",
       "      <td>4.0</td>\n",
       "      <td>MultiFamily2To4</td>\n",
       "      <td>1910.0</td>\n",
       "      <td>1003270.0</td>\n",
       "      <td>1,718,500</td>\n",
       "      <td>94114.0</td>\n",
       "      <td>63158562.0</td>\n",
       "      <td>1.454890e+09</td>\n",
       "    </tr>\n",
       "    <tr>\n",
       "      <th>11307</th>\n",
       "      <td>17567</td>\n",
       "      <td>Address: 325 Locust Street</td>\n",
       "      <td>San FranciscoSales price: 1925000Sales date: ...</td>\n",
       "      <td>325 Locust St</td>\n",
       "      <td>2.0</td>\n",
       "      <td>3.0</td>\n",
       "      <td>1950.0</td>\n",
       "      <td>02/08/2016</td>\n",
       "      <td>1925000.0</td>\n",
       "      <td>37.787916</td>\n",
       "      <td>-122.452338</td>\n",
       "      <td>Presidio Heights</td>\n",
       "      <td>7.0</td>\n",
       "      <td>Condominium</td>\n",
       "      <td>1905.0</td>\n",
       "      <td>2521576.0</td>\n",
       "      <td>5,244,900</td>\n",
       "      <td>94118.0</td>\n",
       "      <td>50883158.0</td>\n",
       "      <td>1.454890e+09</td>\n",
       "    </tr>\n",
       "    <tr>\n",
       "      <th>11308</th>\n",
       "      <td>17568</td>\n",
       "      <td>Address: 50 Longview Court</td>\n",
       "      <td>San FranciscoSales price: 1250000Sales date: ...</td>\n",
       "      <td>50 Longview Ct</td>\n",
       "      <td>2.0</td>\n",
       "      <td>4.0</td>\n",
       "      <td>1703.0</td>\n",
       "      <td>02/08/2016</td>\n",
       "      <td>1250000.0</td>\n",
       "      <td>37.748415</td>\n",
       "      <td>-122.450795</td>\n",
       "      <td>Midtown Terrace</td>\n",
       "      <td>8.0</td>\n",
       "      <td>SingleFamily</td>\n",
       "      <td>1955.0</td>\n",
       "      <td>1357859.0</td>\n",
       "      <td>1,108,400</td>\n",
       "      <td>94131.0</td>\n",
       "      <td>15131999.0</td>\n",
       "      <td>1.454890e+09</td>\n",
       "    </tr>\n",
       "    <tr>\n",
       "      <th>11309</th>\n",
       "      <td>17575</td>\n",
       "      <td>Address: 2243 Franklin Street</td>\n",
       "      <td>San FranciscoSales price: 1950000Sales date: ...</td>\n",
       "      <td>2243 Franklin St</td>\n",
       "      <td>2.0</td>\n",
       "      <td>2.0</td>\n",
       "      <td>1463.0</td>\n",
       "      <td>02/05/2016</td>\n",
       "      <td>1950000.0</td>\n",
       "      <td>37.795139</td>\n",
       "      <td>-122.425309</td>\n",
       "      <td>Pacific Heights</td>\n",
       "      <td>7.0</td>\n",
       "      <td>Condominium</td>\n",
       "      <td>1900.0</td>\n",
       "      <td>1917077.0</td>\n",
       "      <td>1,884,400</td>\n",
       "      <td>94109.0</td>\n",
       "      <td>15073030.0</td>\n",
       "      <td>1.454630e+09</td>\n",
       "    </tr>\n",
       "    <tr>\n",
       "      <th>11310</th>\n",
       "      <td>17576</td>\n",
       "      <td>Address: 576 Brunswick Street</td>\n",
       "      <td>San FranciscoSales price: 609000Sales date: 0...</td>\n",
       "      <td>576 Brunswick St</td>\n",
       "      <td>1.0</td>\n",
       "      <td>2.0</td>\n",
       "      <td>1200.0</td>\n",
       "      <td>02/05/2016</td>\n",
       "      <td>609000.0</td>\n",
       "      <td>37.710208</td>\n",
       "      <td>-122.445075</td>\n",
       "      <td>Crocker Amazon</td>\n",
       "      <td>5.0</td>\n",
       "      <td>SingleFamily</td>\n",
       "      <td>1931.0</td>\n",
       "      <td>633935.0</td>\n",
       "      <td>817,600</td>\n",
       "      <td>94112.0</td>\n",
       "      <td>15179045.0</td>\n",
       "      <td>1.454630e+09</td>\n",
       "    </tr>\n",
       "    <tr>\n",
       "      <th>11311</th>\n",
       "      <td>17577</td>\n",
       "      <td>Address: 79 Seward Street</td>\n",
       "      <td>San FranciscoSales price: 2350000Sales date: ...</td>\n",
       "      <td>79 Seward St</td>\n",
       "      <td>2.0</td>\n",
       "      <td>3.0</td>\n",
       "      <td>2650.0</td>\n",
       "      <td>02/05/2016</td>\n",
       "      <td>2350000.0</td>\n",
       "      <td>37.758626</td>\n",
       "      <td>-122.440801</td>\n",
       "      <td>Eureka Valley - Dolores Heights - Castro</td>\n",
       "      <td>8.0</td>\n",
       "      <td>SingleFamily</td>\n",
       "      <td>1929.0</td>\n",
       "      <td>2226115.0</td>\n",
       "      <td>1,718,500</td>\n",
       "      <td>94114.0</td>\n",
       "      <td>15129566.0</td>\n",
       "      <td>1.454630e+09</td>\n",
       "    </tr>\n",
       "    <tr>\n",
       "      <th>11312</th>\n",
       "      <td>17579</td>\n",
       "      <td>Address: 2105 Buchanan Street #6</td>\n",
       "      <td>San FranciscoSales price: 1770000Sales date: ...</td>\n",
       "      <td>2105 Buchanan St APT 6</td>\n",
       "      <td>2.0</td>\n",
       "      <td>3.0</td>\n",
       "      <td>1700.0</td>\n",
       "      <td>02/05/2016</td>\n",
       "      <td>1770000.0</td>\n",
       "      <td>37.789597</td>\n",
       "      <td>-122.430787</td>\n",
       "      <td>Pacific Heights</td>\n",
       "      <td>5.0</td>\n",
       "      <td>Condominium</td>\n",
       "      <td>1921.0</td>\n",
       "      <td>1124741.0</td>\n",
       "      <td>1,884,400</td>\n",
       "      <td>94115.0</td>\n",
       "      <td>15074690.0</td>\n",
       "      <td>1.454630e+09</td>\n",
       "    </tr>\n",
       "    <tr>\n",
       "      <th>11313</th>\n",
       "      <td>17580</td>\n",
       "      <td>Address: 2017 Buchanan Street</td>\n",
       "      <td>San FranciscoSales price: 2800000Sales date: ...</td>\n",
       "      <td>2017 Buchanan St</td>\n",
       "      <td>4.0</td>\n",
       "      <td>4.0</td>\n",
       "      <td>2850.0</td>\n",
       "      <td>02/05/2016</td>\n",
       "      <td>2800000.0</td>\n",
       "      <td>37.788913</td>\n",
       "      <td>-122.430728</td>\n",
       "      <td>Lower Pacific Heights</td>\n",
       "      <td>7.0</td>\n",
       "      <td>Condominium</td>\n",
       "      <td>1890.0</td>\n",
       "      <td>3052280.0</td>\n",
       "      <td>1,146,900</td>\n",
       "      <td>94115.0</td>\n",
       "      <td>21699068.0</td>\n",
       "      <td>1.454630e+09</td>\n",
       "    </tr>\n",
       "    <tr>\n",
       "      <th>11314</th>\n",
       "      <td>17581</td>\n",
       "      <td>Address: 1015 Ashbury Street #2</td>\n",
       "      <td>San FranciscoSales price: 1350000Sales date: ...</td>\n",
       "      <td>1015 Ashbury St APT 2</td>\n",
       "      <td>2.0</td>\n",
       "      <td>2.0</td>\n",
       "      <td>1252.0</td>\n",
       "      <td>02/05/2016</td>\n",
       "      <td>1350000.0</td>\n",
       "      <td>37.764320</td>\n",
       "      <td>-122.446342</td>\n",
       "      <td>Parnassus - Ashbury</td>\n",
       "      <td>4.0</td>\n",
       "      <td>Condominium</td>\n",
       "      <td>1913.0</td>\n",
       "      <td>1320620.0</td>\n",
       "      <td>2,111,800</td>\n",
       "      <td>94117.0</td>\n",
       "      <td>79843553.0</td>\n",
       "      <td>1.454630e+09</td>\n",
       "    </tr>\n",
       "    <tr>\n",
       "      <th>11315</th>\n",
       "      <td>17584</td>\n",
       "      <td>Address: 170 Bridgeview Drive</td>\n",
       "      <td>San FranciscoSales price: 725000Sales date: 0...</td>\n",
       "      <td>170 Bridgeview Dr</td>\n",
       "      <td>2.0</td>\n",
       "      <td>3.0</td>\n",
       "      <td>1297.0</td>\n",
       "      <td>02/05/2016</td>\n",
       "      <td>725000.0</td>\n",
       "      <td>37.735503</td>\n",
       "      <td>-122.397062</td>\n",
       "      <td>Silver Terrace</td>\n",
       "      <td>6.0</td>\n",
       "      <td>SingleFamily</td>\n",
       "      <td>1964.0</td>\n",
       "      <td>807255.0</td>\n",
       "      <td>720,300</td>\n",
       "      <td>94124.0</td>\n",
       "      <td>15157051.0</td>\n",
       "      <td>1.454630e+09</td>\n",
       "    </tr>\n",
       "    <tr>\n",
       "      <th>11316</th>\n",
       "      <td>17585</td>\n",
       "      <td>Address: 884 Ingerson Avenue</td>\n",
       "      <td>San FranciscoSales price: 850000Sales date: 0...</td>\n",
       "      <td>884 Ingerson Ave</td>\n",
       "      <td>3.0</td>\n",
       "      <td>5.0</td>\n",
       "      <td>1789.0</td>\n",
       "      <td>02/05/2016</td>\n",
       "      <td>850000.0</td>\n",
       "      <td>37.718050</td>\n",
       "      <td>-122.390617</td>\n",
       "      <td>Bayview</td>\n",
       "      <td>8.0</td>\n",
       "      <td>SingleFamily</td>\n",
       "      <td>1964.0</td>\n",
       "      <td>907623.0</td>\n",
       "      <td>719,000</td>\n",
       "      <td>94124.0</td>\n",
       "      <td>15154657.0</td>\n",
       "      <td>1.454630e+09</td>\n",
       "    </tr>\n",
       "    <tr>\n",
       "      <th>11317</th>\n",
       "      <td>17586</td>\n",
       "      <td>Address: 475 Princeton Street</td>\n",
       "      <td>San FranciscoSales price: 860000Sales date: 0...</td>\n",
       "      <td>475 Princeton St</td>\n",
       "      <td>1.0</td>\n",
       "      <td>2.0</td>\n",
       "      <td>1254.0</td>\n",
       "      <td>02/05/2016</td>\n",
       "      <td>860000.0</td>\n",
       "      <td>37.723960</td>\n",
       "      <td>-122.413872</td>\n",
       "      <td>Portola</td>\n",
       "      <td>5.0</td>\n",
       "      <td>SingleFamily</td>\n",
       "      <td>1949.0</td>\n",
       "      <td>796868.0</td>\n",
       "      <td>891,600</td>\n",
       "      <td>94134.0</td>\n",
       "      <td>15170072.0</td>\n",
       "      <td>1.454630e+09</td>\n",
       "    </tr>\n",
       "    <tr>\n",
       "      <th>11318</th>\n",
       "      <td>17592</td>\n",
       "      <td>Address: 333 1st Street #1702</td>\n",
       "      <td>San FranciscoSales price: 885000Sales date: 0...</td>\n",
       "      <td>333 1st St UNIT 1702</td>\n",
       "      <td>1.0</td>\n",
       "      <td>1.0</td>\n",
       "      <td>713.0</td>\n",
       "      <td>02/04/2016</td>\n",
       "      <td>885000.0</td>\n",
       "      <td>37.787031</td>\n",
       "      <td>-122.393642</td>\n",
       "      <td>South Beach</td>\n",
       "      <td>3.0</td>\n",
       "      <td>Condominium</td>\n",
       "      <td>2004.0</td>\n",
       "      <td>913120.0</td>\n",
       "      <td>1,269,100</td>\n",
       "      <td>94105.0</td>\n",
       "      <td>64972552.0</td>\n",
       "      <td>1.454544e+09</td>\n",
       "    </tr>\n",
       "    <tr>\n",
       "      <th>11319</th>\n",
       "      <td>17595</td>\n",
       "      <td>Address: 861 Rhode Island Street #A</td>\n",
       "      <td>San FranciscoSales price: 1110000Sales date: ...</td>\n",
       "      <td>961A Rhode Island St</td>\n",
       "      <td>2.5</td>\n",
       "      <td>4.0</td>\n",
       "      <td>2166.0</td>\n",
       "      <td>06/11/2015</td>\n",
       "      <td>1600000.0</td>\n",
       "      <td>37.757681</td>\n",
       "      <td>-122.401578</td>\n",
       "      <td>Potrero Hill</td>\n",
       "      <td>11.0</td>\n",
       "      <td>MultiFamily2To4</td>\n",
       "      <td>1908.0</td>\n",
       "      <td>1602420.0</td>\n",
       "      <td>1,264,000</td>\n",
       "      <td>94107.0</td>\n",
       "      <td>15150449.0</td>\n",
       "      <td>1.433981e+09</td>\n",
       "    </tr>\n",
       "    <tr>\n",
       "      <th>11320</th>\n",
       "      <td>17599</td>\n",
       "      <td>Address: 415 Amherst Street</td>\n",
       "      <td>San FranciscoSales price: 760000Sales date: 0...</td>\n",
       "      <td>415 Amherst St</td>\n",
       "      <td>1.0</td>\n",
       "      <td>2.0</td>\n",
       "      <td>1000.0</td>\n",
       "      <td>02/04/2016</td>\n",
       "      <td>760000.0</td>\n",
       "      <td>37.724352</td>\n",
       "      <td>-122.415124</td>\n",
       "      <td>Portola</td>\n",
       "      <td>4.0</td>\n",
       "      <td>SingleFamily</td>\n",
       "      <td>1949.0</td>\n",
       "      <td>767702.0</td>\n",
       "      <td>891,600</td>\n",
       "      <td>94134.0</td>\n",
       "      <td>15170058.0</td>\n",
       "      <td>1.454544e+09</td>\n",
       "    </tr>\n",
       "    <tr>\n",
       "      <th>11321</th>\n",
       "      <td>17606</td>\n",
       "      <td>Address: 201 Holly Park Circle</td>\n",
       "      <td>San FranciscoSales price: 227500Sales date: 0...</td>\n",
       "      <td>201 Holly Park Cir</td>\n",
       "      <td>2.0</td>\n",
       "      <td>3.0</td>\n",
       "      <td>2250.0</td>\n",
       "      <td>02/03/2016</td>\n",
       "      <td>227500.0</td>\n",
       "      <td>37.737764</td>\n",
       "      <td>-122.418634</td>\n",
       "      <td>Bernal Heights</td>\n",
       "      <td>8.0</td>\n",
       "      <td>SingleFamily</td>\n",
       "      <td>1910.0</td>\n",
       "      <td>1384016.0</td>\n",
       "      <td>1,214,400</td>\n",
       "      <td>94110.0</td>\n",
       "      <td>15163518.0</td>\n",
       "      <td>1.454458e+09</td>\n",
       "    </tr>\n",
       "    <tr>\n",
       "      <th>11322</th>\n",
       "      <td>17607</td>\n",
       "      <td>Address: 30 Otsego Avenue</td>\n",
       "      <td>San FranciscoSales price: 1300000Sales date: ...</td>\n",
       "      <td>30 Otsego Ave</td>\n",
       "      <td>2.0</td>\n",
       "      <td>3.0</td>\n",
       "      <td>1806.0</td>\n",
       "      <td>02/03/2016</td>\n",
       "      <td>1300000.0</td>\n",
       "      <td>37.726945</td>\n",
       "      <td>-122.439334</td>\n",
       "      <td>Mission Terrace</td>\n",
       "      <td>7.0</td>\n",
       "      <td>SingleFamily</td>\n",
       "      <td>1924.0</td>\n",
       "      <td>1223726.0</td>\n",
       "      <td>986,000</td>\n",
       "      <td>94112.0</td>\n",
       "      <td>15140181.0</td>\n",
       "      <td>1.454458e+09</td>\n",
       "    </tr>\n",
       "    <tr>\n",
       "      <th>11323</th>\n",
       "      <td>17611</td>\n",
       "      <td>Address: 80 Venus Street</td>\n",
       "      <td>San FranciscoSales price: 810000Sales date: 0...</td>\n",
       "      <td>80 Venus St</td>\n",
       "      <td>1.5</td>\n",
       "      <td>3.0</td>\n",
       "      <td>1200.0</td>\n",
       "      <td>02/03/2016</td>\n",
       "      <td>810000.0</td>\n",
       "      <td>37.731771</td>\n",
       "      <td>-122.397584</td>\n",
       "      <td>Silver Terrace</td>\n",
       "      <td>5.0</td>\n",
       "      <td>SingleFamily</td>\n",
       "      <td>1941.0</td>\n",
       "      <td>710277.0</td>\n",
       "      <td>720,300</td>\n",
       "      <td>94124.0</td>\n",
       "      <td>15157490.0</td>\n",
       "      <td>1.454458e+09</td>\n",
       "    </tr>\n",
       "    <tr>\n",
       "      <th>11324</th>\n",
       "      <td>17613</td>\n",
       "      <td>Address: 1816 Castro Street</td>\n",
       "      <td>San FranciscoSales price: 850000Sales date: 0...</td>\n",
       "      <td>1816 Castro St</td>\n",
       "      <td>1.0</td>\n",
       "      <td>2.0</td>\n",
       "      <td>884.0</td>\n",
       "      <td>02/03/2016</td>\n",
       "      <td>850000.0</td>\n",
       "      <td>37.747035</td>\n",
       "      <td>-122.433868</td>\n",
       "      <td>Noe Valley</td>\n",
       "      <td>5.0</td>\n",
       "      <td>Condominium</td>\n",
       "      <td>1918.0</td>\n",
       "      <td>1031073.0</td>\n",
       "      <td>1,751,900</td>\n",
       "      <td>94131.0</td>\n",
       "      <td>89236680.0</td>\n",
       "      <td>1.454458e+09</td>\n",
       "    </tr>\n",
       "    <tr>\n",
       "      <th>11325</th>\n",
       "      <td>17615</td>\n",
       "      <td>Address: 149 Laidley Street</td>\n",
       "      <td>San FranciscoSales price: 1950000Sales date: ...</td>\n",
       "      <td>149 Laidley St</td>\n",
       "      <td>2.0</td>\n",
       "      <td>3.0</td>\n",
       "      <td>2100.0</td>\n",
       "      <td>02/03/2016</td>\n",
       "      <td>1950000.0</td>\n",
       "      <td>37.739623</td>\n",
       "      <td>-122.428899</td>\n",
       "      <td>Glen Park</td>\n",
       "      <td>10.0</td>\n",
       "      <td>SingleFamily</td>\n",
       "      <td>1900.0</td>\n",
       "      <td>1895813.0</td>\n",
       "      <td>1,628,900</td>\n",
       "      <td>94131.0</td>\n",
       "      <td>15184023.0</td>\n",
       "      <td>1.454458e+09</td>\n",
       "    </tr>\n",
       "    <tr>\n",
       "      <th>11326</th>\n",
       "      <td>17619</td>\n",
       "      <td>Address: 737 Tehama Street #1</td>\n",
       "      <td>San FranciscoSales price: 1030000Sales date: ...</td>\n",
       "      <td>737 Tehama St # 1</td>\n",
       "      <td>2.0</td>\n",
       "      <td>2.0</td>\n",
       "      <td>977.0</td>\n",
       "      <td>02/02/2016</td>\n",
       "      <td>1030000.0</td>\n",
       "      <td>37.775184</td>\n",
       "      <td>-122.411567</td>\n",
       "      <td>South of Market</td>\n",
       "      <td>5.0</td>\n",
       "      <td>MultiFamily2To4</td>\n",
       "      <td>2006.0</td>\n",
       "      <td>999443.0</td>\n",
       "      <td>957,300</td>\n",
       "      <td>94103.0</td>\n",
       "      <td>79845585.0</td>\n",
       "      <td>1.454371e+09</td>\n",
       "    </tr>\n",
       "    <tr>\n",
       "      <th>11327</th>\n",
       "      <td>17623</td>\n",
       "      <td>Address: 319 De Long Street</td>\n",
       "      <td>San FranciscoSales price: 565000Sales date: 0...</td>\n",
       "      <td>319 De Long St</td>\n",
       "      <td>1.0</td>\n",
       "      <td>2.0</td>\n",
       "      <td>875.0</td>\n",
       "      <td>02/02/2016</td>\n",
       "      <td>565000.0</td>\n",
       "      <td>37.709411</td>\n",
       "      <td>-122.465031</td>\n",
       "      <td>Outer Mission</td>\n",
       "      <td>4.0</td>\n",
       "      <td>SingleFamily</td>\n",
       "      <td>1950.0</td>\n",
       "      <td>639167.0</td>\n",
       "      <td>804,400</td>\n",
       "      <td>94112.0</td>\n",
       "      <td>15196286.0</td>\n",
       "      <td>1.454371e+09</td>\n",
       "    </tr>\n",
       "    <tr>\n",
       "      <th>11328</th>\n",
       "      <td>17624</td>\n",
       "      <td>Address: 1655 48th Avenue</td>\n",
       "      <td>San FranciscoSales price: 762000Sales date: 0...</td>\n",
       "      <td>1655 48th Ave</td>\n",
       "      <td>1.0</td>\n",
       "      <td>2.0</td>\n",
       "      <td>697.0</td>\n",
       "      <td>02/02/2016</td>\n",
       "      <td>762000.0</td>\n",
       "      <td>37.755586</td>\n",
       "      <td>-122.508063</td>\n",
       "      <td>Outer Sunset</td>\n",
       "      <td>4.0</td>\n",
       "      <td>SingleFamily</td>\n",
       "      <td>1904.0</td>\n",
       "      <td>703197.0</td>\n",
       "      <td>1,030,300</td>\n",
       "      <td>94122.0</td>\n",
       "      <td>15108054.0</td>\n",
       "      <td>1.454371e+09</td>\n",
       "    </tr>\n",
       "    <tr>\n",
       "      <th>11329</th>\n",
       "      <td>17632</td>\n",
       "      <td>Address: 4219 Folsom Street</td>\n",
       "      <td>San FranciscoSales price: 950000Sales date: 0...</td>\n",
       "      <td>4219 Folsom St</td>\n",
       "      <td>2.0</td>\n",
       "      <td>3.0</td>\n",
       "      <td>1539.0</td>\n",
       "      <td>02/01/2016</td>\n",
       "      <td>950000.0</td>\n",
       "      <td>37.734334</td>\n",
       "      <td>-122.413534</td>\n",
       "      <td>Bernal Heights</td>\n",
       "      <td>7.0</td>\n",
       "      <td>SingleFamily</td>\n",
       "      <td>1976.0</td>\n",
       "      <td>962071.0</td>\n",
       "      <td>1,214,400</td>\n",
       "      <td>94110.0</td>\n",
       "      <td>15164756.0</td>\n",
       "      <td>1.454285e+09</td>\n",
       "    </tr>\n",
       "  </tbody>\n",
       "</table>\n",
       "<p>11317 rows × 20 columns</p>\n",
       "</div>"
      ],
      "text/plain": [
       "       Unnamed: 0                                  address  \\\n",
       "0               2       Address: 1160 Mission Street #2007   \n",
       "1               5            Address: 260 King Street #475   \n",
       "2               7          Address: 560 Missouri Street #B   \n",
       "3               9             Address: 350 Missouri Street   \n",
       "4              11              Address: 3658 Folsom Street   \n",
       "5              12               Address: 156 Lowell Street   \n",
       "6              13             Address: 735 Lakeview Avenue   \n",
       "7              14           Address: 430 Capistrano Avenue   \n",
       "8              15                Address: 4135 23rd Street   \n",
       "9              16              Address: 440 Steiner Street   \n",
       "10             18             Address: 414 Somerset Street   \n",
       "11             19           Address: 300 Berry Street #813   \n",
       "12             24            Address: 370 Church Street #F   \n",
       "13             25                  Address: 10 22nd Avenue   \n",
       "14             26                Address: 1847 10th Avenue   \n",
       "15             27              Address: 442 Mangels Avenue   \n",
       "16             33            Address: 650 Turk Street #706   \n",
       "17             34                 Address: 66 Rondel Place   \n",
       "18             35       Address: 1610 Sacramento Street #5   \n",
       "19             36          Address: 1536 Pacific Avenue #1   \n",
       "20             37             Address: 541 Prentiss Street   \n",
       "21             38              Address: 31 Hartford Street   \n",
       "22             40        Address: 1600 Webster Street #106   \n",
       "23             41                 Address: 233 18th Avenue   \n",
       "24             42                 Address: 248 17th Avenue   \n",
       "25             43                Address: 1374 45th Avenue   \n",
       "26             44               Address: 1087 Palou Avenue   \n",
       "27             45           Address: 1486 Underwood Avenue   \n",
       "28             46             Address: 350 Lansdale Avenue   \n",
       "29             47                Address: 120 Ulloa Street   \n",
       "...           ...                                      ...   \n",
       "11300       17554           Address: 1444 17th Avenue #101   \n",
       "11301       17555                Address: 1618 12th Avenue   \n",
       "11302       17557  Address: 5696 Diamond Heights Boulevard   \n",
       "11303       17562              Address: 901 Post Street #2   \n",
       "11304       17563           Address: 66 Cleary Court #1504   \n",
       "11305       17564         Address: 1800 Bryant Street #202   \n",
       "11306       17565                Address: 3919 17th Street   \n",
       "11307       17567               Address: 325 Locust Street   \n",
       "11308       17568               Address: 50 Longview Court   \n",
       "11309       17575            Address: 2243 Franklin Street   \n",
       "11310       17576            Address: 576 Brunswick Street   \n",
       "11311       17577                Address: 79 Seward Street   \n",
       "11312       17579         Address: 2105 Buchanan Street #6   \n",
       "11313       17580            Address: 2017 Buchanan Street   \n",
       "11314       17581          Address: 1015 Ashbury Street #2   \n",
       "11315       17584            Address: 170 Bridgeview Drive   \n",
       "11316       17585             Address: 884 Ingerson Avenue   \n",
       "11317       17586            Address: 475 Princeton Street   \n",
       "11318       17592            Address: 333 1st Street #1702   \n",
       "11319       17595      Address: 861 Rhode Island Street #A   \n",
       "11320       17599              Address: 415 Amherst Street   \n",
       "11321       17606           Address: 201 Holly Park Circle   \n",
       "11322       17607                Address: 30 Otsego Avenue   \n",
       "11323       17611                 Address: 80 Venus Street   \n",
       "11324       17613              Address: 1816 Castro Street   \n",
       "11325       17615              Address: 149 Laidley Street   \n",
       "11326       17619            Address: 737 Tehama Street #1   \n",
       "11327       17623              Address: 319 De Long Street   \n",
       "11328       17624                Address: 1655 48th Avenue   \n",
       "11329       17632              Address: 4219 Folsom Street   \n",
       "\n",
       "                                                    info  \\\n",
       "0       San FranciscoSales price: 1300000Sales date: ...   \n",
       "1       San FranciscoSales price: 750000Sales date: 0...   \n",
       "2       San FranciscoSales price: 1495000Sales date: ...   \n",
       "3       San FranciscoSales price: 2700000Sales date: ...   \n",
       "4       San FranciscoSales price: 1530000Sales date: ...   \n",
       "5       San FranciscoSales price: 460000Sales date: 0...   \n",
       "6       San FranciscoSales price: 532000Sales date: 0...   \n",
       "7       San FranciscoSales price: 1050000Sales date: ...   \n",
       "8       San FranciscoSales price: 3500000Sales date: ...   \n",
       "9       San FranciscoSales price: 1500000Sales date: ...   \n",
       "10      San FranciscoSales price: 848000Sales date: 0...   \n",
       "11      San FranciscoSales price: 1000000Sales date: ...   \n",
       "12      San FranciscoSales price: 888000Sales date: 0...   \n",
       "13      San FranciscoSales price: 4888000Sales date: ...   \n",
       "14      San FranciscoSales price: 1000000Sales date: ...   \n",
       "15      San FranciscoSales price: 210000Sales date: 0...   \n",
       "16      San FranciscoSales price: 525000Sales date: 0...   \n",
       "17      San FranciscoSales price: 2300000Sales date: ...   \n",
       "18      San FranciscoSales price: 1450000Sales date: ...   \n",
       "19      San FranciscoSales price: 2500000Sales date: ...   \n",
       "20      San FranciscoSales price: 171000Sales date: 0...   \n",
       "21      San FranciscoSales price: 871500Sales date: 0...   \n",
       "22      San FranciscoSales price: 900000Sales date: 0...   \n",
       "23      San FranciscoSales price: 1020000Sales date: ...   \n",
       "24      San FranciscoSales price: 1410500Sales date: ...   \n",
       "25      San FranciscoSales price: 951000Sales date: 0...   \n",
       "26      San FranciscoSales price: 430000Sales date: 0...   \n",
       "27      San FranciscoSales price: 680000Sales date: 0...   \n",
       "28      San FranciscoSales price: 1440000Sales date: ...   \n",
       "29      San FranciscoSales price: 1700000Sales date: ...   \n",
       "...                                                  ...   \n",
       "11300   San FranciscoSales price: 1600000Sales date: ...   \n",
       "11301   San FranciscoSales price: 1625000Sales date: ...   \n",
       "11302   San FranciscoSales price: 2050000Sales date: ...   \n",
       "11303   San FranciscoSales price: 885000Sales date: 0...   \n",
       "11304   San FranciscoSales price: 960000Sales date: 0...   \n",
       "11305   San FranciscoSales price: 825000Sales date: 0...   \n",
       "11306   San FranciscoSales price: 1065000Sales date: ...   \n",
       "11307   San FranciscoSales price: 1925000Sales date: ...   \n",
       "11308   San FranciscoSales price: 1250000Sales date: ...   \n",
       "11309   San FranciscoSales price: 1950000Sales date: ...   \n",
       "11310   San FranciscoSales price: 609000Sales date: 0...   \n",
       "11311   San FranciscoSales price: 2350000Sales date: ...   \n",
       "11312   San FranciscoSales price: 1770000Sales date: ...   \n",
       "11313   San FranciscoSales price: 2800000Sales date: ...   \n",
       "11314   San FranciscoSales price: 1350000Sales date: ...   \n",
       "11315   San FranciscoSales price: 725000Sales date: 0...   \n",
       "11316   San FranciscoSales price: 850000Sales date: 0...   \n",
       "11317   San FranciscoSales price: 860000Sales date: 0...   \n",
       "11318   San FranciscoSales price: 885000Sales date: 0...   \n",
       "11319   San FranciscoSales price: 1110000Sales date: ...   \n",
       "11320   San FranciscoSales price: 760000Sales date: 0...   \n",
       "11321   San FranciscoSales price: 227500Sales date: 0...   \n",
       "11322   San FranciscoSales price: 1300000Sales date: ...   \n",
       "11323   San FranciscoSales price: 810000Sales date: 0...   \n",
       "11324   San FranciscoSales price: 850000Sales date: 0...   \n",
       "11325   San FranciscoSales price: 1950000Sales date: ...   \n",
       "11326   San FranciscoSales price: 1030000Sales date: ...   \n",
       "11327   San FranciscoSales price: 565000Sales date: 0...   \n",
       "11328   San FranciscoSales price: 762000Sales date: 0...   \n",
       "11329   San FranciscoSales price: 950000Sales date: 0...   \n",
       "\n",
       "                       z_address  bathrooms  bedrooms  finishedsqft  \\\n",
       "0      1160 Mission St UNIT 2007        2.0       2.0        1043.0   \n",
       "1           260 King St UNIT 475        1.0       1.0         903.0   \n",
       "2            560 Missouri St # B        4.0       3.0        1425.0   \n",
       "3                350 Missouri St        3.0       3.0        2231.0   \n",
       "4                 3658 Folsom St        3.0       3.0        1300.0   \n",
       "5                  156 Lowell St        1.0       2.0        1250.0   \n",
       "6               735 Lakeview Ave        1.0       3.0        1032.0   \n",
       "7             430 Capistrano Ave        1.0       2.0        1200.0   \n",
       "8                   4135 23rd St        3.5       4.0        2700.0   \n",
       "9                 440 Steiner St        2.0       3.0        2016.0   \n",
       "10               414 Somerset St        1.0       3.0        1798.0   \n",
       "11         300 Berry St UNIT 813        1.0       1.0         761.0   \n",
       "12           370 Church St APT F        1.0       1.0         780.0   \n",
       "13                   10 22nd Ave        5.0       5.0        5786.0   \n",
       "14                 1847 10th Ave        2.0       2.0        1688.0   \n",
       "15               442 Mangels Ave        3.0       4.0        1619.0   \n",
       "16          650 Turk St UNIT 706        1.0       0.0         398.0   \n",
       "17                  66 Rondel Pl        4.5       4.0        2615.0   \n",
       "18      1610 Sacramento St APT 5        2.0       2.0        1252.0   \n",
       "19          1536 Pacific Ave # 1        2.0       3.0        1444.0   \n",
       "20               541 Prentiss St        2.0       3.0        1200.0   \n",
       "21                31 Hartford St        1.0       2.0        1265.0   \n",
       "22       1600 Webster St APT 106        1.0       1.0         859.0   \n",
       "23                  233 18th Ave        1.0       2.0        1308.0   \n",
       "24                  248 17th Ave        1.5       2.0        1429.0   \n",
       "25                 1374 45th Ave        1.0       3.0        1771.0   \n",
       "26                1087 Palou Ave        2.0       3.0        1452.0   \n",
       "27            1486 Underwood Ave        2.0       3.0        1115.0   \n",
       "28              350 Lansdale Ave        3.0       3.0        2378.0   \n",
       "29                  120 Ulloa St        2.5       2.0        2063.0   \n",
       "...                          ...        ...       ...           ...   \n",
       "11300        1444 17th Ave # 101        3.0       3.0        1902.0   \n",
       "11301              1618 12th Ave        3.0       4.0        2900.0   \n",
       "11302  5696 Diamond Heights Blvd        3.5       3.0        2435.0   \n",
       "11303            901 Post St # 2        2.0       3.0        1207.0   \n",
       "11304      66 Cleary Ct APT 1504        2.0       3.0        1106.0   \n",
       "11305     1800 Bryant St STE 202        2.0       1.0         935.0   \n",
       "11306               3919 17th St        1.0       2.0         968.0   \n",
       "11307              325 Locust St        2.0       3.0        1950.0   \n",
       "11308             50 Longview Ct        2.0       4.0        1703.0   \n",
       "11309           2243 Franklin St        2.0       2.0        1463.0   \n",
       "11310           576 Brunswick St        1.0       2.0        1200.0   \n",
       "11311               79 Seward St        2.0       3.0        2650.0   \n",
       "11312     2105 Buchanan St APT 6        2.0       3.0        1700.0   \n",
       "11313           2017 Buchanan St        4.0       4.0        2850.0   \n",
       "11314      1015 Ashbury St APT 2        2.0       2.0        1252.0   \n",
       "11315          170 Bridgeview Dr        2.0       3.0        1297.0   \n",
       "11316           884 Ingerson Ave        3.0       5.0        1789.0   \n",
       "11317           475 Princeton St        1.0       2.0        1254.0   \n",
       "11318       333 1st St UNIT 1702        1.0       1.0         713.0   \n",
       "11319       961A Rhode Island St        2.5       4.0        2166.0   \n",
       "11320             415 Amherst St        1.0       2.0        1000.0   \n",
       "11321         201 Holly Park Cir        2.0       3.0        2250.0   \n",
       "11322              30 Otsego Ave        2.0       3.0        1806.0   \n",
       "11323                80 Venus St        1.5       3.0        1200.0   \n",
       "11324             1816 Castro St        1.0       2.0         884.0   \n",
       "11325             149 Laidley St        2.0       3.0        2100.0   \n",
       "11326          737 Tehama St # 1        2.0       2.0         977.0   \n",
       "11327             319 De Long St        1.0       2.0         875.0   \n",
       "11328              1655 48th Ave        1.0       2.0         697.0   \n",
       "11329             4219 Folsom St        2.0       3.0        1539.0   \n",
       "\n",
       "      lastsolddate  lastsoldprice   latitude   longitude  \\\n",
       "0       02/17/2016      1300000.0  37.778705 -122.412635   \n",
       "1       02/17/2016       750000.0  37.777641 -122.393417   \n",
       "2       02/17/2016      1495000.0  37.759198 -122.396516   \n",
       "3       02/17/2016      2700000.0  37.761886 -122.396769   \n",
       "4       02/17/2016      1530000.0  37.740795 -122.413453   \n",
       "5       02/17/2016       460000.0  37.710226 -122.446027   \n",
       "6       02/17/2016       532000.0  37.718024 -122.460332   \n",
       "7       02/17/2016      1050000.0  37.725204 -122.439273   \n",
       "8       02/17/2016      3500000.0  37.752602 -122.435011   \n",
       "9       02/17/2016      1500000.0  37.773237 -122.432302   \n",
       "10      02/17/2016       848000.0  37.726252 -122.407649   \n",
       "11      02/17/2016      1000000.0  37.773929 -122.396240   \n",
       "12      08/12/2015       863000.0  37.765062 -122.429077   \n",
       "13      02/16/2016      4888000.0  37.787088 -122.481741   \n",
       "14      02/16/2016      1000000.0  37.753756 -122.466995   \n",
       "15      02/16/2016       210000.0  37.733307 -122.447605   \n",
       "16      02/12/2016       525000.0  37.782379 -122.420166   \n",
       "17      02/12/2016      2300000.0  37.763849 -122.421259   \n",
       "18      02/12/2016      1450000.0  37.791904 -122.419806   \n",
       "19      02/12/2016      2500000.0  37.795383 -122.420623   \n",
       "20      02/12/2016       171000.0  37.736390 -122.412103   \n",
       "21      02/12/2016       871500.0  37.762070 -122.433690   \n",
       "22      02/12/2016       900000.0  37.785680 -122.430955   \n",
       "23      02/12/2016      1020000.0  37.783586 -122.477794   \n",
       "24      02/12/2016      1410500.0  37.783401 -122.476049   \n",
       "25      02/12/2016       951000.0  37.761002 -122.504565   \n",
       "26      02/12/2016       430000.0  37.728354 -122.381454   \n",
       "27      02/12/2016       680000.0  37.728777 -122.389531   \n",
       "28      02/12/2016      1440000.0  37.735851 -122.458653   \n",
       "29      02/12/2016      1700000.0  37.744348 -122.455305   \n",
       "...            ...            ...        ...         ...   \n",
       "11300   02/09/2016      1600000.0  37.760979 -122.474469   \n",
       "11301   02/09/2016      1625000.0  37.757906 -122.468775   \n",
       "11302   02/09/2016      2050000.0  37.738831 -122.439262   \n",
       "11303   02/08/2016       885000.0  37.787089 -122.416761   \n",
       "11304   02/08/2016       960000.0  37.784298 -122.427058   \n",
       "11305   02/08/2016       825000.0  37.764088 -122.410828   \n",
       "11306   02/08/2016      1065000.0  37.762410 -122.433456   \n",
       "11307   02/08/2016      1925000.0  37.787916 -122.452338   \n",
       "11308   02/08/2016      1250000.0  37.748415 -122.450795   \n",
       "11309   02/05/2016      1950000.0  37.795139 -122.425309   \n",
       "11310   02/05/2016       609000.0  37.710208 -122.445075   \n",
       "11311   02/05/2016      2350000.0  37.758626 -122.440801   \n",
       "11312   02/05/2016      1770000.0  37.789597 -122.430787   \n",
       "11313   02/05/2016      2800000.0  37.788913 -122.430728   \n",
       "11314   02/05/2016      1350000.0  37.764320 -122.446342   \n",
       "11315   02/05/2016       725000.0  37.735503 -122.397062   \n",
       "11316   02/05/2016       850000.0  37.718050 -122.390617   \n",
       "11317   02/05/2016       860000.0  37.723960 -122.413872   \n",
       "11318   02/04/2016       885000.0  37.787031 -122.393642   \n",
       "11319   06/11/2015      1600000.0  37.757681 -122.401578   \n",
       "11320   02/04/2016       760000.0  37.724352 -122.415124   \n",
       "11321   02/03/2016       227500.0  37.737764 -122.418634   \n",
       "11322   02/03/2016      1300000.0  37.726945 -122.439334   \n",
       "11323   02/03/2016       810000.0  37.731771 -122.397584   \n",
       "11324   02/03/2016       850000.0  37.747035 -122.433868   \n",
       "11325   02/03/2016      1950000.0  37.739623 -122.428899   \n",
       "11326   02/02/2016      1030000.0  37.775184 -122.411567   \n",
       "11327   02/02/2016       565000.0  37.709411 -122.465031   \n",
       "11328   02/02/2016       762000.0  37.755586 -122.508063   \n",
       "11329   02/01/2016       950000.0  37.734334 -122.413534   \n",
       "\n",
       "                                   neighborhood  totalrooms          usecode  \\\n",
       "0                               South of Market         4.0      Condominium   \n",
       "1                               South of Market         3.0      Condominium   \n",
       "2                                  Potrero Hill         6.0      Condominium   \n",
       "3                                  Potrero Hill        10.0     SingleFamily   \n",
       "4                                Bernal Heights         4.0     SingleFamily   \n",
       "5                                Crocker Amazon         5.0     SingleFamily   \n",
       "6                                     Oceanview         6.0     SingleFamily   \n",
       "7                               Mission Terrace         5.0     SingleFamily   \n",
       "8                                    Noe Valley         9.0     SingleFamily   \n",
       "9                                  Hayes Valley         7.0      Condominium   \n",
       "10                                      Portola         8.0     SingleFamily   \n",
       "11                              South of Market         4.0      Condominium   \n",
       "12     Eureka Valley - Dolores Heights - Castro         4.0      Condominium   \n",
       "13                                         Lake        12.0     SingleFamily   \n",
       "14                                 Inner Sunset         6.0     SingleFamily   \n",
       "15                                    Sunnyside         7.0     SingleFamily   \n",
       "16                      Van Ness - Civic Center         4.0      Condominium   \n",
       "17                                      Mission         9.0     SingleFamily   \n",
       "18                                     Nob Hill         4.0      Condominium   \n",
       "19                                     Nob Hill         6.0      Condominium   \n",
       "20                               Bernal Heights         5.0     SingleFamily   \n",
       "21     Eureka Valley - Dolores Heights - Castro         5.0      Condominium   \n",
       "22                        Lower Pacific Heights         4.0      Condominium   \n",
       "23                             Central Richmond         5.0      Condominium   \n",
       "24                             Central Richmond         6.0      Condominium   \n",
       "25                                 Outer Sunset         8.0     SingleFamily   \n",
       "26                                      Bayview         8.0     SingleFamily   \n",
       "27                                      Bayview         6.0     SingleFamily   \n",
       "28                           Westwood Highlands         8.0     SingleFamily   \n",
       "29                        Forest Hill Extension        10.0     SingleFamily   \n",
       "...                                         ...         ...              ...   \n",
       "11300                              Inner Sunset         6.0      Condominium   \n",
       "11301                              Inner Sunset         8.0      Condominium   \n",
       "11302                           Diamond Heights         7.0     SingleFamily   \n",
       "11303                                  Downtown         9.0      Condominium   \n",
       "11304                          Western Addition         6.0      Condominium   \n",
       "11305                                   Mission         3.0      Condominium   \n",
       "11306  Eureka Valley - Dolores Heights - Castro         4.0  MultiFamily2To4   \n",
       "11307                          Presidio Heights         7.0      Condominium   \n",
       "11308                           Midtown Terrace         8.0     SingleFamily   \n",
       "11309                           Pacific Heights         7.0      Condominium   \n",
       "11310                            Crocker Amazon         5.0     SingleFamily   \n",
       "11311  Eureka Valley - Dolores Heights - Castro         8.0     SingleFamily   \n",
       "11312                           Pacific Heights         5.0      Condominium   \n",
       "11313                     Lower Pacific Heights         7.0      Condominium   \n",
       "11314                       Parnassus - Ashbury         4.0      Condominium   \n",
       "11315                            Silver Terrace         6.0     SingleFamily   \n",
       "11316                                   Bayview         8.0     SingleFamily   \n",
       "11317                                   Portola         5.0     SingleFamily   \n",
       "11318                               South Beach         3.0      Condominium   \n",
       "11319                              Potrero Hill        11.0  MultiFamily2To4   \n",
       "11320                                   Portola         4.0     SingleFamily   \n",
       "11321                            Bernal Heights         8.0     SingleFamily   \n",
       "11322                           Mission Terrace         7.0     SingleFamily   \n",
       "11323                            Silver Terrace         5.0     SingleFamily   \n",
       "11324                                Noe Valley         5.0      Condominium   \n",
       "11325                                 Glen Park        10.0     SingleFamily   \n",
       "11326                           South of Market         5.0  MultiFamily2To4   \n",
       "11327                             Outer Mission         4.0     SingleFamily   \n",
       "11328                              Outer Sunset         4.0     SingleFamily   \n",
       "11329                            Bernal Heights         7.0     SingleFamily   \n",
       "\n",
       "       yearbuilt  zestimate zindexvalue  zipcode         zpid  lastsolddateint  \n",
       "0         2007.0  1167508.0     975,700  94103.0   83152781.0     1.455667e+09  \n",
       "1         2004.0   823719.0     975,700  94107.0   69819817.0     1.455667e+09  \n",
       "2         2003.0  1708594.0   1,277,600  94107.0   64972847.0     1.455667e+09  \n",
       "3         1927.0  2411236.0   1,277,600  94107.0   15149489.0     1.455667e+09  \n",
       "4         1900.0  1918539.0   1,248,000  94110.0   15161978.0     1.455667e+09  \n",
       "5         1924.0   703392.0     823,000  94112.0   15178981.0     1.455667e+09  \n",
       "6         1939.0   741715.0     762,700  94112.0   15192274.0     1.455667e+09  \n",
       "7         1924.0  1023650.0     992,600  94112.0   15141129.0     1.455667e+09  \n",
       "8         1912.0  3604950.0   1,782,000  94114.0   15131647.0     1.455667e+09  \n",
       "9         1890.0  1547314.0   1,224,800  94117.0  118608077.0     1.455667e+09  \n",
       "10        1953.0   933506.0     888,400  94134.0   15170161.0     1.455667e+09  \n",
       "11        2008.0   931039.0     975,700  94158.0   96023519.0     1.455667e+09  \n",
       "12        1981.0   847894.0   1,744,100  94114.0   15143549.0     1.439338e+09  \n",
       "13        1926.0  7159444.0   2,244,500  94121.0   15089099.0     1.455581e+09  \n",
       "14        1927.0  1106369.0   1,357,900  94122.0   15111864.0     1.455581e+09  \n",
       "15        1966.0  1483668.0   1,038,200  94127.0   15137861.0     1.455581e+09  \n",
       "16        2008.0   565702.0     855,500  94102.0   82785510.0     1.455235e+09  \n",
       "17        1906.0  1613306.0   1,185,400  94103.0   15143880.0     1.455235e+09  \n",
       "18        2002.0  1386684.0   1,459,200  94109.0   61288302.0     1.455235e+09  \n",
       "19        2009.0  2125825.0   1,459,200  94109.0   96039237.0     1.455235e+09  \n",
       "20        1953.0  1261487.0   1,248,000  94110.0   15163972.0     1.455235e+09  \n",
       "21        1902.0  1262136.0   1,744,100  94114.0   15144391.0     1.455235e+09  \n",
       "22        2005.0   820965.0   1,178,700  94115.0   64971357.0     1.455235e+09  \n",
       "23        1914.0  1077432.0   1,485,300  94121.0   79845847.0     1.455235e+09  \n",
       "24        1922.0  1170744.0   1,485,300  94121.0   79841409.0     1.455235e+09  \n",
       "25        1905.0   956441.0   1,031,800  94122.0   15103994.0     1.455235e+09  \n",
       "26        1900.0   536665.0     731,900  94124.0   15153617.0     1.455235e+09  \n",
       "27        1931.0   631581.0     731,900  94124.0   15154174.0     1.455235e+09  \n",
       "28        1940.0  1709182.0   1,424,100  94127.0   15135745.0     1.455235e+09  \n",
       "29        1937.0  1755644.0   1,669,300  94127.0   15133658.0     1.455235e+09  \n",
       "...          ...        ...         ...      ...          ...              ...  \n",
       "11300     1996.0  1416921.0   1,348,400  94122.0   15105664.0     1.454976e+09  \n",
       "11301     2001.0  1577278.0   1,348,400  94122.0   59718406.0     1.454976e+09  \n",
       "11302     1980.0  2022309.0   1,070,100  94131.0   15199559.0     1.454976e+09  \n",
       "11303     2002.0  1559722.0     795,400  94109.0   61325028.0     1.454890e+09  \n",
       "11304     1963.0   957769.0     971,300  94109.0   15076984.0     1.454890e+09  \n",
       "11305     2000.0   888562.0   1,167,700  94110.0   54487721.0     1.454890e+09  \n",
       "11306     1910.0  1003270.0   1,718,500  94114.0   63158562.0     1.454890e+09  \n",
       "11307     1905.0  2521576.0   5,244,900  94118.0   50883158.0     1.454890e+09  \n",
       "11308     1955.0  1357859.0   1,108,400  94131.0   15131999.0     1.454890e+09  \n",
       "11309     1900.0  1917077.0   1,884,400  94109.0   15073030.0     1.454630e+09  \n",
       "11310     1931.0   633935.0     817,600  94112.0   15179045.0     1.454630e+09  \n",
       "11311     1929.0  2226115.0   1,718,500  94114.0   15129566.0     1.454630e+09  \n",
       "11312     1921.0  1124741.0   1,884,400  94115.0   15074690.0     1.454630e+09  \n",
       "11313     1890.0  3052280.0   1,146,900  94115.0   21699068.0     1.454630e+09  \n",
       "11314     1913.0  1320620.0   2,111,800  94117.0   79843553.0     1.454630e+09  \n",
       "11315     1964.0   807255.0     720,300  94124.0   15157051.0     1.454630e+09  \n",
       "11316     1964.0   907623.0     719,000  94124.0   15154657.0     1.454630e+09  \n",
       "11317     1949.0   796868.0     891,600  94134.0   15170072.0     1.454630e+09  \n",
       "11318     2004.0   913120.0   1,269,100  94105.0   64972552.0     1.454544e+09  \n",
       "11319     1908.0  1602420.0   1,264,000  94107.0   15150449.0     1.433981e+09  \n",
       "11320     1949.0   767702.0     891,600  94134.0   15170058.0     1.454544e+09  \n",
       "11321     1910.0  1384016.0   1,214,400  94110.0   15163518.0     1.454458e+09  \n",
       "11322     1924.0  1223726.0     986,000  94112.0   15140181.0     1.454458e+09  \n",
       "11323     1941.0   710277.0     720,300  94124.0   15157490.0     1.454458e+09  \n",
       "11324     1918.0  1031073.0   1,751,900  94131.0   89236680.0     1.454458e+09  \n",
       "11325     1900.0  1895813.0   1,628,900  94131.0   15184023.0     1.454458e+09  \n",
       "11326     2006.0   999443.0     957,300  94103.0   79845585.0     1.454371e+09  \n",
       "11327     1950.0   639167.0     804,400  94112.0   15196286.0     1.454371e+09  \n",
       "11328     1904.0   703197.0   1,030,300  94122.0   15108054.0     1.454371e+09  \n",
       "11329     1976.0   962071.0   1,214,400  94110.0   15164756.0     1.454285e+09  \n",
       "\n",
       "[11317 rows x 20 columns]"
      ]
     },
     "execution_count": 15,
     "metadata": {},
     "output_type": "execute_result"
    }
   ],
   "source": [
    "housing['lastsolddateint'] = pd.to_datetime(housing['lastsolddate'], format='%m/%d/%Y').astype('int')\n",
    "housing['lastsolddateint'] = housing['lastsolddateint']/1000000000\n",
    "housing = housing[housing['lastsolddateint'].notnull()]\n",
    "housing"
   ]
  },
  {
   "cell_type": "code",
   "execution_count": 16,
   "metadata": {},
   "outputs": [],
   "source": [
    "clean_data = housing.copy()"
   ]
  },
  {
   "cell_type": "markdown",
   "metadata": {},
   "source": [
    "That is much better, and we are getting close to a linear relationship. Let's see how we can model this. But first, we have to make lastsolddate a value that we can perform a mathematical calculation on, so we transform it into an int. We will also remove prices from around 2012, since some of these go back decades (but most are from the last few years)."
   ]
  },
  {
   "cell_type": "markdown",
   "metadata": {},
   "source": [
    "Additionally, we will drop some fields that are unlikely to be useful for a linear model, including the geographic data. Obviously these are important, but it is not immediately clear how to map zipcode or address to a scalar value for our model. We also drop the zestimate and the zindexvalue, as these were calculated (by Zillow?) using their own model. We just want to look at the raw data and see what sort of model we can come up with."
   ]
  },
  {
   "cell_type": "code",
   "execution_count": 17,
   "metadata": {},
   "outputs": [],
   "source": [
    "def drop_geog(data, keep = []):\n",
    "    remove_list = ['info','address','z_address','longitude','latitude','neighborhood','lastsolddate','zipcode','zpid','usecode', 'zestimate','zindexvalue']\n",
    "    for k in keep:\n",
    "        remove_list.remove(k)\n",
    "    data = data.drop(remove_list, axis=1)\n",
    "    data = data.drop(data.columns[data.columns.str.contains('unnamed',case = False)],axis = 1)\n",
    "    return data\n",
    "\n",
    "housing = drop_geog(housing)"
   ]
  },
  {
   "cell_type": "markdown",
   "metadata": {},
   "source": [
    "Now that we have cleaned up some of the data, let's look at the correlations between the variables."
   ]
  },
  {
   "cell_type": "code",
   "execution_count": 114,
   "metadata": {},
   "outputs": [
    {
     "data": {
      "text/plain": [
       "<matplotlib.axes._subplots.AxesSubplot at 0x7f6b4b28a1d0>"
      ]
     },
     "execution_count": 114,
     "metadata": {},
     "output_type": "execute_result"
    },
    {
     "data": {
      "image/png": "[encoded data removed]",
      "text/plain": [
       "<Figure size 432x288 with 2 Axes>"
      ]
     },
     "metadata": {},
     "output_type": "display_data"
    }
   ],
   "source": [
    "import seaborn as sns\n",
    "sns.heatmap(housing.corr())"
   ]
  },
  {
   "cell_type": "markdown",
   "metadata": {},
   "source": [
    "This shows us that there is a pretty high correlation between lastsoldprice and finishedsqft, which is not surprising. In fact, this is a much higher correlation than with bedrooms or totalrooms, although bathrooms fairs a bit better.\n",
    "Now we will create a linear model and train it, using lastsoldprice as our target value."
   ]
  },
  {
   "cell_type": "code",
   "execution_count": 18,
   "metadata": {},
   "outputs": [],
   "source": [
    "from sklearn.model_selection import train_test_split\n",
    "\n",
    "def split_data(data):\n",
    "    y = data['lastsoldprice']\n",
    "    X = data.drop('lastsoldprice', axis=1)\n",
    "    # Return (X_train, X_test, y_train, y_test)\n",
    "    return train_test_split(X, y, test_size=0.2, random_state=30)\n"
   ]
  },
  {
   "cell_type": "code",
   "execution_count": 19,
   "metadata": {},
   "outputs": [
    {
     "name": "stdout",
     "output_type": "stream",
     "text": [
      "Fitting 5 folds for each of 1 candidates, totalling 5 fits\n",
      "0.5366066917131977\n",
      "750678.476479495\n",
      "433245.6519384096\n"
     ]
    },
    {
     "name": "stderr",
     "output_type": "stream",
     "text": [
      "[Parallel(n_jobs=-1)]: Done   5 out of   5 | elapsed:    0.1s finished\n"
     ]
    },
    {
     "data": {
      "text/plain": [
       "GridSearchCV(cv=5, error_score='raise',\n",
       "       estimator=LinearRegression(copy_X=True, fit_intercept=True, n_jobs=1, normalize=False),\n",
       "       fit_params=None, iid=True, n_jobs=-1, param_grid={},\n",
       "       pre_dispatch='2*n_jobs', refit=True, return_train_score='warn',\n",
       "       scoring=None, verbose=1)"
      ]
     },
     "execution_count": 19,
     "metadata": {},
     "output_type": "execute_result"
    }
   ],
   "source": [
    "import sys\n",
    "from math import sqrt\n",
    "from sklearn.metrics import mean_squared_error, mean_absolute_error, r2_score\n",
    "from sklearn.model_selection import GridSearchCV\n",
    "import numpy as np\n",
    "\n",
    "from sklearn.linear_model import LinearRegression\n",
    "\n",
    "def train_eval(algorithm, grid_params, X_train, X_test, y_train, y_test):\n",
    "    regression_model = GridSearchCV(algorithm, grid_params, cv=5, n_jobs=-1, verbose=1)\n",
    "    regression_model.fit(X_train, y_train)\n",
    "    y_pred = regression_model.predict(X_test)\n",
    "    print(\"R2: \\t\", r2_score(y_test, y_pred))\n",
    "    print(\"RMSE: \\t\", sqrt(mean_squared_error(y_test, y_pred)))\n",
    "    print(\"MAE: \\t\", mean_absolute_error(y_test, y_pred))\n",
    "    return regression_model\n",
    "    \n",
    "housing_split = split_data(housing)\n",
    "train_eval(LinearRegression(), {}, *housing_split)"
   ]
  },
  {
   "cell_type": "markdown",
   "metadata": {},
   "source": [
    "This is not a terrible score (it shows a linear relationship) but it is really not a great score either. But we can checkpoint this model (by uncommenting and running the below code) in S3 in case we want to use it later."
   ]
  },
  {
   "cell_type": "code",
   "execution_count": 20,
   "metadata": {},
   "outputs": [],
   "source": [
    "# Note the Python version, since this model will not work in other Python versions\n",
    "#sys.version_info[0]\n",
    "#pyver = sys.version_info[0]\n",
    "\n",
    "#from sklearn.externals import joblib\n",
    "#filename = 'MyModel.sav'\n",
    "#joblib.dump(regression_model, filename)\n",
    "#s3 = boto3.resource('s3')\n",
    "#s3.meta.client.upload_file(filename, 'my-s3-bucket', 'hp-model-' + str(pyver))"
   ]
  },
  {
   "cell_type": "markdown",
   "metadata": {},
   "source": [
    "Next we look at other variations of linear regression, as well as other machine learning algorithms."
   ]
  },
  {
   "cell_type": "code",
   "execution_count": 21,
   "metadata": {},
   "outputs": [
    {
     "name": "stdout",
     "output_type": "stream",
     "text": [
      "Fitting 5 folds for each of 6 candidates, totalling 30 fits\n",
      "0.536566932696846\n",
      "750710.6797905002\n",
      "433215.8364058313\n"
     ]
    },
    {
     "name": "stderr",
     "output_type": "stream",
     "text": [
      "[Parallel(n_jobs=-1)]: Done  30 out of  30 | elapsed:    0.2s finished\n"
     ]
    },
    {
     "data": {
      "text/plain": [
       "{'alpha': 10}"
      ]
     },
     "execution_count": 21,
     "metadata": {},
     "output_type": "execute_result"
    }
   ],
   "source": [
    "from sklearn.linear_model import Ridge\n",
    "\n",
    "ridge_params = {'alpha': [0.0001, 0.001, 0.01, 0.1, 1, 10]}\n",
    "ridge = train_eval(Ridge(), ridge_params, *housing_split)\n",
    "ridge.best_params_"
   ]
  },
  {
   "cell_type": "code",
   "execution_count": 22,
   "metadata": {},
   "outputs": [
    {
     "name": "stdout",
     "output_type": "stream",
     "text": [
      "Fitting 5 folds for each of 6 candidates, totalling 30 fits\n",
      "0.536604560098389\n",
      "750680.2030425336\n",
      "433243.79336846014\n"
     ]
    },
    {
     "name": "stderr",
     "output_type": "stream",
     "text": [
      "[Parallel(n_jobs=-1)]: Done  30 out of  30 | elapsed:    0.7s finished\n"
     ]
    },
    {
     "data": {
      "text/plain": [
       "{'alpha': 10, 'max_iter': 10000}"
      ]
     },
     "execution_count": 22,
     "metadata": {},
     "output_type": "execute_result"
    }
   ],
   "source": [
    "from sklearn.linear_model import Lasso\n",
    "\n",
    "lasso_params = {'alpha': [0.1, 1, 10], 'max_iter': [10000, 25000]}\n",
    "lasso = train_eval(Lasso(), lasso_params, *housing_split)\n",
    "lasso.best_params_"
   ]
  },
  {
   "cell_type": "code",
   "execution_count": 23,
   "metadata": {},
   "outputs": [
    {
     "name": "stdout",
     "output_type": "stream",
     "text": [
      "Fitting 5 folds for each of 10 candidates, totalling 50 fits\n",
      "0.15060023694456648\n",
      "1016330.95341843\n",
      "540260.1489399293\n"
     ]
    },
    {
     "name": "stderr",
     "output_type": "stream",
     "text": [
      "[Parallel(n_jobs=-1)]: Done  50 out of  50 | elapsed:    5.6s finished\n"
     ]
    },
    {
     "data": {
      "text/plain": [
       "{'n_neighbors': 5}"
      ]
     },
     "execution_count": 23,
     "metadata": {},
     "output_type": "execute_result"
    }
   ],
   "source": [
    "from sklearn.neighbors import KNeighborsRegressor\n",
    "knn_params = {'n_neighbors' : [1, 5, 10, 20, 30, 50, 75, 100, 200, 500]}\n",
    "model = train_eval(KNeighborsRegressor(), knn_params, *housing_split)\n",
    "model.best_params_"
   ]
  },
  {
   "cell_type": "code",
   "execution_count": 24,
   "metadata": {},
   "outputs": [
    {
     "name": "stdout",
     "output_type": "stream",
     "text": [
      "Fitting 5 folds for each of 1 candidates, totalling 5 fits\n",
      "0.09635601667334437\n",
      "1048281.1237086286\n",
      "479376.222614841\n"
     ]
    },
    {
     "name": "stderr",
     "output_type": "stream",
     "text": [
      "[Parallel(n_jobs=-1)]: Done   5 out of   5 | elapsed:    0.1s finished\n"
     ]
    },
    {
     "data": {
      "text/plain": [
       "GridSearchCV(cv=5, error_score='raise',\n",
       "       estimator=DecisionTreeRegressor(criterion='mse', max_depth=None, max_features=None,\n",
       "           max_leaf_nodes=None, min_impurity_decrease=0.0,\n",
       "           min_impurity_split=None, min_samples_leaf=1,\n",
       "           min_samples_split=2, min_weight_fraction_leaf=0.0,\n",
       "           presort=False, random_state=None, splitter='best'),\n",
       "       fit_params=None, iid=True, n_jobs=-1, param_grid={},\n",
       "       pre_dispatch='2*n_jobs', refit=True, return_train_score='warn',\n",
       "       scoring=None, verbose=1)"
      ]
     },
     "execution_count": 24,
     "metadata": {},
     "output_type": "execute_result"
    }
   ],
   "source": [
    "from sklearn.model_selection import cross_val_score\n",
    "from sklearn.tree import DecisionTreeRegressor\n",
    "\n",
    "tree_params = {}\n",
    "train_eval(DecisionTreeRegressor(), tree_params, *housing_split)"
   ]
  },
  {
   "cell_type": "code",
   "execution_count": 25,
   "metadata": {
    "scrolled": true
   },
   "outputs": [
    {
     "name": "stdout",
     "output_type": "stream",
     "text": [
      "Fitting 5 folds for each of 1 candidates, totalling 5 fits\n"
     ]
    },
    {
     "name": "stderr",
     "output_type": "stream",
     "text": [
      "[Parallel(n_jobs=-1)]: Done   5 out of   5 | elapsed:  1.3min finished\n"
     ]
    },
    {
     "name": "stdout",
     "output_type": "stream",
     "text": [
      "0.6071295620858653\n",
      "691200.04921061\n",
      "367126.8614028794\n"
     ]
    }
   ],
   "source": [
    "from sklearn import ensemble\n",
    "from sklearn.ensemble import RandomForestRegressor\n",
    "from sklearn.datasets import make_regression\n",
    "\n",
    "forest_params = {'n_estimators': [1000], 'max_depth': [None], 'min_samples_split': [2]}\n",
    "forest = train_eval(RandomForestRegressor(), forest_params, *housing_split)"
   ]
  },
  {
   "cell_type": "code",
   "execution_count": 26,
   "metadata": {},
   "outputs": [
    {
     "name": "stdout",
     "output_type": "stream",
     "text": [
      "Fitting 5 folds for each of 81 candidates, totalling 405 fits\n"
     ]
    },
    {
     "name": "stderr",
     "output_type": "stream",
     "text": [
      "[Parallel(n_jobs=-1)]: Done 145 tasks      | elapsed:   19.6s\n",
      "[Parallel(n_jobs=-1)]: Done 405 out of 405 | elapsed:   57.8s finished\n"
     ]
    },
    {
     "name": "stdout",
     "output_type": "stream",
     "text": [
      "0.5592003071947464\n",
      "732149.4264737129\n",
      "388453.77059884043\n"
     ]
    },
    {
     "data": {
      "text/plain": [
       "{'alpha': 0.9, 'learning_rate': 0.1, 'max_depth': 3, 'n_estimators': 100}"
      ]
     },
     "execution_count": 26,
     "metadata": {},
     "output_type": "execute_result"
    }
   ],
   "source": [
    "from sklearn.ensemble import GradientBoostingRegressor\n",
    "\n",
    "gbm_params = {'alpha' : [.1, .5, .9], 'learning_rate': [.01, .1, 1], 'max_depth':[2,3,5], 'n_estimators':[10, 100, 150]}\n",
    "gbm = train_eval(GradientBoostingRegressor(), gbm_params, *housing_split)\n",
    "gbm.best_params_"
   ]
  },
  {
   "cell_type": "code",
   "execution_count": 27,
   "metadata": {},
   "outputs": [
    {
     "name": "stdout",
     "output_type": "stream",
     "text": [
      "Fitting 5 folds for each of 12 candidates, totalling 60 fits\n"
     ]
    },
    {
     "name": "stderr",
     "output_type": "stream",
     "text": [
      "[Parallel(n_jobs=-1)]: Done  53 tasks      | elapsed:   47.7s\n"
     ]
    },
    {
     "name": "stdout",
     "output_type": "stream",
     "text": [
      "0.4914904171169657\n",
      "786373.1124272654\n",
      "450287.8889303565\n"
     ]
    },
    {
     "name": "stderr",
     "output_type": "stream",
     "text": [
      "[Parallel(n_jobs=-1)]: Done  60 out of  60 | elapsed:  1.0min finished\n"
     ]
    },
    {
     "data": {
      "text/plain": [
       "{'learning_rate': 0.0001, 'n_estimators': 10}"
      ]
     },
     "execution_count": 27,
     "metadata": {},
     "output_type": "execute_result"
    }
   ],
   "source": [
    "from sklearn.ensemble import AdaBoostRegressor\n",
    "\n",
    "ada_params = {'n_estimators': [10, 100, 250, 500], 'learning_rate': [.0001, .001, .01]}\n",
    "adaboost = train_eval(AdaBoostRegressor(), ada_params, *housing_split)\n",
    "adaboost.best_params_"
   ]
  },
  {
   "cell_type": "markdown",
   "metadata": {},
   "source": [
    "Now let's trying some feature engineering to see if it makes a difference. First, we are going to re-retrieve our cleaned data, but this time with the neighborhood column. Including the neighborhood will allow our algorithms to consider whether the neighborhood plays a role in the price. Based on experience, most of us will know that a house in two different neighborhoods, which are otherwise equal, may have a substantially different price."
   ]
  },
  {
   "cell_type": "code",
   "execution_count": 28,
   "metadata": {},
   "outputs": [],
   "source": [
    "housing_cleaned = drop_geog(clean_data.copy(), ['neighborhood'])"
   ]
  },
  {
   "cell_type": "markdown",
   "metadata": {},
   "source": [
    "Now, let's transform the neighborhood feature into a format that our algorithms can deal with. We can do this with One Hot Encoding. This transforms all of our string values into zeros and ones, and adds a new feature for each one of these values. For each of these neighborhood features, the value will be 1 if the data point in in that neighborhood and 0 otherwise."
   ]
  },
  {
   "cell_type": "code",
   "execution_count": 29,
   "metadata": {},
   "outputs": [],
   "source": [
    "one_hot = pd.get_dummies(housing_cleaned['neighborhood'])\n",
    "housing_cleaned = housing_cleaned.drop('neighborhood',axis = 1)"
   ]
  },
  {
   "cell_type": "markdown",
   "metadata": {},
   "source": [
    "For now, we simply hold onto the one-hot encoding, while also deleting the neighborhood feature. \n",
    "\n",
    "Now, we can center and scale our data so that they are all in a consistent format. This helps (and is even necessary, as we will see) some machine learning algorithms to make predictions on the data. Otherwise, fields that have a wider variation than others can play an oversized role in the prediction."
   ]
  },
  {
   "cell_type": "code",
   "execution_count": 30,
   "metadata": {},
   "outputs": [
    {
     "data": {
      "text/plain": [
       "2041      575000.0\n",
       "6589      803000.0\n",
       "10491     835000.0\n",
       "929      3500000.0\n",
       "1484     2025000.0\n",
       "8606      100000.0\n",
       "10945     525000.0\n",
       "388      1593000.0\n",
       "4297     3750000.0\n",
       "1728     1600000.0\n",
       "4331      880000.0\n",
       "2339      836000.0\n",
       "9775      651000.0\n",
       "5762     1300000.0\n",
       "1605     1525000.0\n",
       "3329      950000.0\n",
       "1635     1070000.0\n",
       "1843      660000.0\n",
       "3519     2087500.0\n",
       "8466      550000.0\n",
       "3016      901000.0\n",
       "9346      830000.0\n",
       "7644     1011000.0\n",
       "301       890000.0\n",
       "9767     1200000.0\n",
       "6719      405000.0\n",
       "8975     1200000.0\n",
       "1320      660000.0\n",
       "8249     1900000.0\n",
       "10374     450000.0\n",
       "           ...    \n",
       "870       788000.0\n",
       "4017      720000.0\n",
       "8748      850000.0\n",
       "8420     1775000.0\n",
       "9449     1460000.0\n",
       "1459     1510000.0\n",
       "4714      951000.0\n",
       "7041     1275000.0\n",
       "4697     1350000.0\n",
       "8980     1850000.0\n",
       "9534      925000.0\n",
       "4289     1075000.0\n",
       "5399      838700.0\n",
       "7873      750000.0\n",
       "10476    7350000.0\n",
       "10243     789000.0\n",
       "8987     1406500.0\n",
       "9196     1600000.0\n",
       "9755      550000.0\n",
       "8302      630000.0\n",
       "1098     2808000.0\n",
       "4475      675500.0\n",
       "10002     645000.0\n",
       "4932      779000.0\n",
       "3322      890000.0\n",
       "3679      878000.0\n",
       "71        850000.0\n",
       "7231     1099000.0\n",
       "4512     1856000.0\n",
       "1868      520000.0\n",
       "Name: lastsoldprice, Length: 2264, dtype: float64"
      ]
     },
     "execution_count": 30,
     "metadata": {},
     "output_type": "execute_result"
    }
   ],
   "source": [
    "from sklearn.preprocessing import StandardScaler\n",
    "(X_train, X_test, y_train, y_test) = split_data(housing_cleaned)\n",
    "scaler = StandardScaler()\n",
    "scaler.fit(X_train)\n",
    "X_train[X_train.columns] = scaler.transform(X_train[X_train.columns])\n",
    "X_train = X_train.join(one_hot)\n",
    "X_test[X_test.columns] = scaler.transform(X_test[X_test.columns])\n",
    "X_test = X_test.join(one_hot)\n",
    "\n",
    "housing_split_cleaned = (X_train, X_test, y_train, y_test)"
   ]
  },
  {
   "cell_type": "markdown",
   "metadata": {},
   "source": [
    "Now let's try training again, with the cleaned data."
   ]
  },
  {
   "cell_type": "code",
   "execution_count": 46,
   "metadata": {},
   "outputs": [
    {
     "name": "stdout",
     "output_type": "stream",
     "text": [
      "Fitting 5 folds for each of 1 candidates, totalling 5 fits\n",
      "0.6328566983301503\n",
      "668185.25771193\n",
      "371451.9425795053\n"
     ]
    },
    {
     "name": "stderr",
     "output_type": "stream",
     "text": [
      "[Parallel(n_jobs=-1)]: Done   5 out of   5 | elapsed:    0.2s finished\n"
     ]
    }
   ],
   "source": [
    "empty_params = {}\n",
    "model = train_eval(LinearRegression(), empty_params, *housing_split_cleaned)"
   ]
  },
  {
   "cell_type": "markdown",
   "metadata": {},
   "source": [
    "We can already see an improvement. Now let's take a look at the other algorithms."
   ]
  },
  {
   "cell_type": "code",
   "execution_count": 32,
   "metadata": {},
   "outputs": [
    {
     "name": "stdout",
     "output_type": "stream",
     "text": [
      "Fitting 5 folds for each of 6 candidates, totalling 30 fits\n",
      "0.6326740229926028\n",
      "668351.4677280113\n",
      "371187.8693141953\n"
     ]
    },
    {
     "name": "stderr",
     "output_type": "stream",
     "text": [
      "[Parallel(n_jobs=-1)]: Done  30 out of  30 | elapsed:    1.0s finished\n"
     ]
    },
    {
     "data": {
      "text/plain": [
       "{'alpha': 1}"
      ]
     },
     "execution_count": 32,
     "metadata": {},
     "output_type": "execute_result"
    }
   ],
   "source": [
    "model = train_eval(Ridge(), ridge_params, *housing_split_cleaned)\n",
    "model.best_params_"
   ]
  },
  {
   "cell_type": "code",
   "execution_count": 33,
   "metadata": {},
   "outputs": [
    {
     "name": "stdout",
     "output_type": "stream",
     "text": [
      "Fitting 5 folds for each of 10 candidates, totalling 50 fits\n"
     ]
    },
    {
     "name": "stderr",
     "output_type": "stream",
     "text": [
      "[Parallel(n_jobs=-1)]: Done  46 tasks      | elapsed:  1.6min\n",
      "[Parallel(n_jobs=-1)]: Done  50 out of  50 | elapsed:  1.9min finished\n"
     ]
    },
    {
     "name": "stdout",
     "output_type": "stream",
     "text": [
      "0.6938710004544473\n",
      "610142.5615480896\n",
      "303699.6739399293\n"
     ]
    },
    {
     "data": {
      "text/plain": [
       "{'n_neighbors': 5}"
      ]
     },
     "execution_count": 33,
     "metadata": {},
     "output_type": "execute_result"
    }
   ],
   "source": [
    "model = train_eval(KNeighborsRegressor(), knn_params, *housing_split_cleaned)\n",
    "model.best_params_"
   ]
  },
  {
   "cell_type": "markdown",
   "metadata": {},
   "source": [
    "This is substantially better! We KNN went from terrible, to better than linear regression."
   ]
  },
  {
   "cell_type": "code",
   "execution_count": 34,
   "metadata": {},
   "outputs": [
    {
     "name": "stdout",
     "output_type": "stream",
     "text": [
      "Fitting 5 folds for each of 1 candidates, totalling 5 fits\n"
     ]
    },
    {
     "name": "stderr",
     "output_type": "stream",
     "text": [
      "[Parallel(n_jobs=-1)]: Done   5 out of   5 | elapsed:    0.3s finished\n"
     ]
    },
    {
     "name": "stdout",
     "output_type": "stream",
     "text": [
      "0.39542277744197274\n",
      "857442.439825675\n",
      "383743.4403710247\n"
     ]
    }
   ],
   "source": [
    "model = train_eval(DecisionTreeRegressor(), tree_params,*housing_split_cleaned)"
   ]
  },
  {
   "cell_type": "code",
   "execution_count": 35,
   "metadata": {},
   "outputs": [
    {
     "name": "stdout",
     "output_type": "stream",
     "text": [
      "Fitting 5 folds for each of 1 candidates, totalling 5 fits\n"
     ]
    },
    {
     "name": "stderr",
     "output_type": "stream",
     "text": [
      "[Parallel(n_jobs=-1)]: Done   5 out of   5 | elapsed:  3.0min finished\n"
     ]
    },
    {
     "name": "stdout",
     "output_type": "stream",
     "text": [
      "0.677028227379022\n",
      "626702.4153226872\n",
      "294772.5044353021\n"
     ]
    },
    {
     "data": {
      "text/plain": [
       "{'max_depth': None, 'min_samples_split': 2, 'n_estimators': 1000}"
      ]
     },
     "execution_count": 35,
     "metadata": {},
     "output_type": "execute_result"
    }
   ],
   "source": [
    "model = train_eval(RandomForestRegressor(), forest_params, *housing_split_cleaned)\n",
    "model.best_params_"
   ]
  },
  {
   "cell_type": "code",
   "execution_count": 36,
   "metadata": {},
   "outputs": [
    {
     "name": "stdout",
     "output_type": "stream",
     "text": [
      "Fitting 5 folds for each of 81 candidates, totalling 405 fits\n"
     ]
    },
    {
     "name": "stderr",
     "output_type": "stream",
     "text": [
      "[Parallel(n_jobs=-1)]: Done  55 tasks      | elapsed:   39.7s\n",
      "[Parallel(n_jobs=-1)]: Done 205 tasks      | elapsed:  2.3min\n",
      "[Parallel(n_jobs=-1)]: Done 405 out of 405 | elapsed:  4.6min finished\n"
     ]
    },
    {
     "name": "stdout",
     "output_type": "stream",
     "text": [
      "0.6583890868201707\n",
      "644532.6957564729\n",
      "294236.37829967606\n"
     ]
    },
    {
     "data": {
      "text/plain": [
       "{'alpha': 0.5, 'learning_rate': 0.1, 'max_depth': 5, 'n_estimators': 150}"
      ]
     },
     "execution_count": 36,
     "metadata": {},
     "output_type": "execute_result"
    }
   ],
   "source": [
    "model = train_eval(GradientBoostingRegressor(), gbm_params, *housing_split_cleaned)\n",
    "model.best_params_"
   ]
  },
  {
   "cell_type": "code",
   "execution_count": 37,
   "metadata": {},
   "outputs": [
    {
     "name": "stdout",
     "output_type": "stream",
     "text": [
      "Fitting 5 folds for each of 12 candidates, totalling 60 fits\n"
     ]
    },
    {
     "name": "stderr",
     "output_type": "stream",
     "text": [
      "[Parallel(n_jobs=-1)]: Done  46 tasks      | elapsed:  1.5min\n",
      "[Parallel(n_jobs=-1)]: Done  60 out of  60 | elapsed:  2.2min finished\n"
     ]
    },
    {
     "name": "stdout",
     "output_type": "stream",
     "text": [
      "0.4312890576967766\n",
      "831619.9076784445\n",
      "460993.4989463397\n"
     ]
    },
    {
     "data": {
      "text/plain": [
       "{'learning_rate': 0.0001, 'n_estimators': 10}"
      ]
     },
     "execution_count": 37,
     "metadata": {},
     "output_type": "execute_result"
    }
   ],
   "source": [
    "model = train_eval(AdaBoostRegressor(), ada_params, *housing_split_cleaned)\n",
    "model.best_params_"
   ]
  },
  {
   "cell_type": "markdown",
   "metadata": {},
   "source": [
    "In general, these are getting quite a bit better, but we can still improve. We should reevaluate our goals here. Do we really want to predict the price of a house sold in San Francisco at an arbitrary point in time? No, probably not. What we really want is to predict the price of a house will be sold in the future. Unfortunately, this data set is already a few years old. But, what we could try is, given prices from before 2016 (the year this data was scraped), can we predict the price of a house sold in 2016? \n",
    "\n",
    "To try this, we will separate our pre-2016 data from our 2016 data. That is, 2016 data will be the test set, and pre-2016 data will be the training set."
   ]
  },
  {
   "cell_type": "code",
   "execution_count": 39,
   "metadata": {},
   "outputs": [
    {
     "data": {
      "text/plain": [
       "11315"
      ]
     },
     "execution_count": 39,
     "metadata": {},
     "output_type": "execute_result"
    }
   ],
   "source": [
    "len(clean_data[clean_data['lastsolddateint'] >= 1451690306.0])"
   ]
  },
  {
   "cell_type": "code",
   "execution_count": 40,
   "metadata": {},
   "outputs": [
    {
     "data": {
      "text/plain": [
       "2"
      ]
     },
     "execution_count": 40,
     "metadata": {},
     "output_type": "execute_result"
    }
   ],
   "source": [
    "len(clean_data[clean_data['lastsolddateint'] < 1451690306.0])"
   ]
  },
  {
   "cell_type": "code",
   "execution_count": 52,
   "metadata": {},
   "outputs": [],
   "source": [
    "housing_cleaned = drop_geog(clean_data.copy(), ['neighborhood'])\n",
    "one_hot = pd.get_dummies(housing_cleaned['neighborhood'])\n",
    "housing_cleaned = housing_cleaned.drop('neighborhood',axis = 1)\n",
    "\n",
    "housing_cleaned_2016 = housing_cleaned[housing_cleaned['lastsolddateint'] >= 1451606400.0]\n",
    "housing_cleaned_pre2016 = housing_cleaned[housing_cleaned['lastsolddateint'] < 1451606400.0]\n",
    "\n",
    "X_train = housing_cleaned_pre2016.drop('lastsoldprice',axis = 1)\n",
    "y_train = housing_cleaned_pre2016['lastsoldprice']\n",
    "X_test = housing_cleaned_2016.drop('lastsoldprice',axis = 1)\n",
    "y_test = housing_cleaned_2016['lastsoldprice']\n",
    "\n",
    "scaler = StandardScaler()\n",
    "scaler.fit(X_train)\n",
    "X_train[X_train.columns] = scaler.transform(X_train[X_train.columns])\n",
    "X_train = X_train.join(one_hot)\n",
    "X_test[X_test.columns] = scaler.transform(X_test[X_test.columns])\n",
    "X_test = X_test.join(one_hot)\n",
    "\n",
    "housing_2016 = (X_train, X_test, y_train, y_test)"
   ]
  },
  {
   "cell_type": "code",
   "execution_count": 55,
   "metadata": {},
   "outputs": [
    {
     "name": "stdout",
     "output_type": "stream",
     "text": [
      "Fitting 5 folds for each of 1 candidates, totalling 5 fits\n",
      "0.5655143235078578\n",
      "705595.9419018636\n",
      "368231.789010989\n"
     ]
    },
    {
     "name": "stderr",
     "output_type": "stream",
     "text": [
      "[Parallel(n_jobs=-1)]: Done   5 out of   5 | elapsed:    0.2s finished\n"
     ]
    }
   ],
   "source": [
    "model = train_eval(LinearRegression(), empty_params, *housing_2016)"
   ]
  },
  {
   "cell_type": "code",
   "execution_count": 56,
   "metadata": {},
   "outputs": [
    {
     "name": "stdout",
     "output_type": "stream",
     "text": [
      "Fitting 5 folds for each of 6 candidates, totalling 30 fits\n",
      "0.5654736636888247\n",
      "705628.9564909427\n",
      "367912.0225069891\n"
     ]
    },
    {
     "name": "stderr",
     "output_type": "stream",
     "text": [
      "[Parallel(n_jobs=-1)]: Done  30 out of  30 | elapsed:    0.8s finished\n"
     ]
    },
    {
     "data": {
      "text/plain": [
       "{'alpha': 1}"
      ]
     },
     "execution_count": 56,
     "metadata": {},
     "output_type": "execute_result"
    }
   ],
   "source": [
    "model = train_eval(Ridge(), ridge_params, *housing_2016)\n",
    "model.best_params_"
   ]
  },
  {
   "cell_type": "code",
   "execution_count": 57,
   "metadata": {},
   "outputs": [
    {
     "name": "stdout",
     "output_type": "stream",
     "text": [
      "Fitting 5 folds for each of 10 candidates, totalling 50 fits\n"
     ]
    },
    {
     "name": "stderr",
     "output_type": "stream",
     "text": [
      "[Parallel(n_jobs=-1)]: Done  46 tasks      | elapsed:  2.3min\n",
      "[Parallel(n_jobs=-1)]: Done  50 out of  50 | elapsed:  2.7min finished\n"
     ]
    },
    {
     "name": "stdout",
     "output_type": "stream",
     "text": [
      "0.5917745802036787\n",
      "683940.5678481678\n",
      "339921.69362637366\n"
     ]
    },
    {
     "data": {
      "text/plain": [
       "{'n_neighbors': 5}"
      ]
     },
     "execution_count": 57,
     "metadata": {},
     "output_type": "execute_result"
    }
   ],
   "source": [
    "model = train_eval(KNeighborsRegressor(), knn_params, *housing_2016)\n",
    "model.best_params_"
   ]
  },
  {
   "cell_type": "code",
   "execution_count": 58,
   "metadata": {},
   "outputs": [
    {
     "name": "stdout",
     "output_type": "stream",
     "text": [
      "Fitting 5 folds for each of 1 candidates, totalling 5 fits\n"
     ]
    },
    {
     "name": "stderr",
     "output_type": "stream",
     "text": [
      "[Parallel(n_jobs=-1)]: Done   5 out of   5 | elapsed:    0.4s finished\n"
     ]
    },
    {
     "name": "stdout",
     "output_type": "stream",
     "text": [
      "-0.2625813180762244\n",
      "1202812.7469473258\n",
      "561070.6901098901\n"
     ]
    }
   ],
   "source": [
    "model = train_eval(DecisionTreeRegressor(), tree_params,*housing_2016)"
   ]
  },
  {
   "cell_type": "code",
   "execution_count": 59,
   "metadata": {},
   "outputs": [
    {
     "name": "stdout",
     "output_type": "stream",
     "text": [
      "Fitting 5 folds for each of 1 candidates, totalling 5 fits\n"
     ]
    },
    {
     "name": "stderr",
     "output_type": "stream",
     "text": [
      "[Parallel(n_jobs=-1)]: Done   5 out of   5 | elapsed:  3.7min finished\n"
     ]
    },
    {
     "name": "stdout",
     "output_type": "stream",
     "text": [
      "0.6449382763512762\n",
      "637852.513123179\n",
      "342572.9925384616\n"
     ]
    },
    {
     "data": {
      "text/plain": [
       "{'max_depth': None, 'min_samples_split': 2, 'n_estimators': 1000}"
      ]
     },
     "execution_count": 59,
     "metadata": {},
     "output_type": "execute_result"
    }
   ],
   "source": [
    "model = train_eval(RandomForestRegressor(), forest_params, *housing_2016)\n",
    "model.best_params_"
   ]
  },
  {
   "cell_type": "code",
   "execution_count": 60,
   "metadata": {},
   "outputs": [
    {
     "name": "stdout",
     "output_type": "stream",
     "text": [
      "Fitting 5 folds for each of 81 candidates, totalling 405 fits\n"
     ]
    },
    {
     "name": "stderr",
     "output_type": "stream",
     "text": [
      "[Parallel(n_jobs=-1)]: Done  54 tasks      | elapsed:   47.0s\n",
      "[Parallel(n_jobs=-1)]: Done 204 tasks      | elapsed:  2.7min\n",
      "[Parallel(n_jobs=-1)]: Done 405 out of 405 | elapsed:  5.4min finished\n"
     ]
    },
    {
     "name": "stdout",
     "output_type": "stream",
     "text": [
      "0.630165041911716\n",
      "650987.0096284344\n",
      "304833.2705639046\n"
     ]
    },
    {
     "data": {
      "text/plain": [
       "{'alpha': 0.1, 'learning_rate': 0.1, 'max_depth': 5, 'n_estimators': 150}"
      ]
     },
     "execution_count": 60,
     "metadata": {},
     "output_type": "execute_result"
    }
   ],
   "source": [
    "model = train_eval(GradientBoostingRegressor(), gbm_params, *housing_2016)\n",
    "model.best_params_"
   ]
  },
  {
   "cell_type": "code",
   "execution_count": 61,
   "metadata": {},
   "outputs": [
    {
     "name": "stdout",
     "output_type": "stream",
     "text": [
      "Fitting 5 folds for each of 12 candidates, totalling 60 fits\n"
     ]
    },
    {
     "name": "stderr",
     "output_type": "stream",
     "text": [
      "[Parallel(n_jobs=-1)]: Done  46 tasks      | elapsed:  1.7min\n",
      "[Parallel(n_jobs=-1)]: Done  60 out of  60 | elapsed:  3.9min finished\n"
     ]
    },
    {
     "name": "stdout",
     "output_type": "stream",
     "text": [
      "0.385870828230404\n",
      "838876.8432951688\n",
      "455762.6847942452\n"
     ]
    },
    {
     "data": {
      "text/plain": [
       "{'learning_rate': 0.001, 'n_estimators': 250}"
      ]
     },
     "execution_count": 61,
     "metadata": {},
     "output_type": "execute_result"
    }
   ],
   "source": [
    "model = train_eval(AdaBoostRegressor(), ada_params, *housing_2016)\n",
    "model.best_params_"
   ]
  },
  {
   "cell_type": "markdown",
   "metadata": {},
   "source": [
    "Now, we should go even a step further. We do not want to go back to the beginning of all housing prices to determine the price of a house in the present. Specifically, there was a crash in the housing market around 2008-2011. So we want to start at least at 2012 to train our data and maybe later. That is, we do not want to force our algorithms to deal with this dip, we just want to see how prices have increased since then. The good news is, there is enough data to do this, all we are really doing is getting rid of some early, possibly outlier data."
   ]
  },
  {
   "cell_type": "code",
   "execution_count": 62,
   "metadata": {},
   "outputs": [],
   "source": [
    "housing_cleaned = drop_geog(clean_data.copy(), ['neighborhood'])\n",
    "one_hot = pd.get_dummies(housing_cleaned['neighborhood'])\n",
    "housing_cleaned = housing_cleaned.drop('neighborhood',axis = 1)\n",
    "\n",
    "housing_cleaned_2016 = housing_cleaned[housing_cleaned['lastsolddateint'] >= 1451606400.0]\n",
    "housing_cleaned_pre2016 = housing_cleaned[housing_cleaned['lastsolddateint'] < 1451606400.0]\n",
    "housing_cleaned_2012_2015 = housing_cleaned_pre2016[housing_cleaned_pre2016['lastsolddateint'] >= 1325376000.0]\n",
    "\n",
    "X_train = housing_cleaned_2012_2015.drop('lastsoldprice',axis = 1)\n",
    "y_train = housing_cleaned_2012_2015['lastsoldprice']\n",
    "X_test = housing_cleaned_2016.drop('lastsoldprice',axis = 1)\n",
    "y_test = housing_cleaned_2016['lastsoldprice']\n",
    "\n",
    "scaler = StandardScaler()\n",
    "scaler.fit(X_train)\n",
    "X_train[X_train.columns] = scaler.transform(X_train[X_train.columns])\n",
    "X_train = X_train.join(one_hot)\n",
    "X_test[X_test.columns] = scaler.transform(X_test[X_test.columns])\n",
    "X_test = X_test.join(one_hot)\n",
    "\n",
    "housing_2012_2016 = (X_train, X_test, y_train, y_test)"
   ]
  },
  {
   "cell_type": "code",
   "execution_count": 63,
   "metadata": {},
   "outputs": [
    {
     "name": "stdout",
     "output_type": "stream",
     "text": [
      "Fitting 5 folds for each of 1 candidates, totalling 5 fits\n",
      "0.5480960392253182\n",
      "719600.4335882488\n",
      "398405.3978021978\n"
     ]
    },
    {
     "name": "stderr",
     "output_type": "stream",
     "text": [
      "[Parallel(n_jobs=-1)]: Done   5 out of   5 | elapsed:    0.2s finished\n"
     ]
    }
   ],
   "source": [
    "model = train_eval(LinearRegression(), empty_params, *housing_2012_2016)"
   ]
  },
  {
   "cell_type": "code",
   "execution_count": 64,
   "metadata": {},
   "outputs": [
    {
     "name": "stdout",
     "output_type": "stream",
     "text": [
      "Fitting 5 folds for each of 6 candidates, totalling 30 fits\n",
      "0.548059814954011\n",
      "719629.2743168602\n",
      "398330.48391291883\n"
     ]
    },
    {
     "name": "stderr",
     "output_type": "stream",
     "text": [
      "[Parallel(n_jobs=-1)]: Done  30 out of  30 | elapsed:    0.8s finished\n"
     ]
    },
    {
     "data": {
      "text/plain": [
       "{'alpha': 1}"
      ]
     },
     "execution_count": 64,
     "metadata": {},
     "output_type": "execute_result"
    }
   ],
   "source": [
    "model = train_eval(Ridge(), ridge_params, *housing_2012_2016)\n",
    "model.best_params_"
   ]
  },
  {
   "cell_type": "code",
   "execution_count": 65,
   "metadata": {},
   "outputs": [
    {
     "name": "stdout",
     "output_type": "stream",
     "text": [
      "Fitting 5 folds for each of 10 candidates, totalling 50 fits\n"
     ]
    },
    {
     "name": "stderr",
     "output_type": "stream",
     "text": [
      "[Parallel(n_jobs=-1)]: Done  46 tasks      | elapsed:  8.3min\n",
      "[Parallel(n_jobs=-1)]: Done  50 out of  50 | elapsed:  9.9min finished\n"
     ]
    },
    {
     "name": "stdout",
     "output_type": "stream",
     "text": [
      "0.5465621124747452\n",
      "720820.6920389826\n",
      "357043.06241758243\n"
     ]
    },
    {
     "data": {
      "text/plain": [
       "{'n_neighbors': 5}"
      ]
     },
     "execution_count": 65,
     "metadata": {},
     "output_type": "execute_result"
    }
   ],
   "source": [
    "model = train_eval(KNeighborsRegressor(), knn_params, *housing_2012_2016)\n",
    "model.best_params_"
   ]
  },
  {
   "cell_type": "code",
   "execution_count": 66,
   "metadata": {},
   "outputs": [
    {
     "name": "stdout",
     "output_type": "stream",
     "text": [
      "Fitting 5 folds for each of 1 candidates, totalling 5 fits\n",
      "-0.2735148435107386\n",
      "1208009.4956323102\n",
      "554855.7538461538\n"
     ]
    },
    {
     "name": "stderr",
     "output_type": "stream",
     "text": [
      "[Parallel(n_jobs=-1)]: Done   5 out of   5 | elapsed:    0.4s finished\n"
     ]
    }
   ],
   "source": [
    "model = train_eval(DecisionTreeRegressor(), tree_params,*housing_2012_2016)"
   ]
  },
  {
   "cell_type": "code",
   "execution_count": 67,
   "metadata": {},
   "outputs": [
    {
     "name": "stdout",
     "output_type": "stream",
     "text": [
      "Fitting 5 folds for each of 1 candidates, totalling 5 fits\n"
     ]
    },
    {
     "name": "stderr",
     "output_type": "stream",
     "text": [
      "[Parallel(n_jobs=-1)]: Done   5 out of   5 | elapsed: 10.5min finished\n"
     ]
    },
    {
     "name": "stdout",
     "output_type": "stream",
     "text": [
      "0.6466906685441473\n",
      "636276.5190388259\n",
      "340716.62283736264\n"
     ]
    },
    {
     "data": {
      "text/plain": [
       "{'max_depth': None, 'min_samples_split': 2, 'n_estimators': 1000}"
      ]
     },
     "execution_count": 67,
     "metadata": {},
     "output_type": "execute_result"
    }
   ],
   "source": [
    "model = train_eval(RandomForestRegressor(), forest_params, *housing_2012_2016)\n",
    "model.best_params_"
   ]
  },
  {
   "cell_type": "code",
   "execution_count": 68,
   "metadata": {},
   "outputs": [
    {
     "name": "stdout",
     "output_type": "stream",
     "text": [
      "Fitting 5 folds for each of 81 candidates, totalling 405 fits\n"
     ]
    },
    {
     "name": "stderr",
     "output_type": "stream",
     "text": [
      "[Parallel(n_jobs=-1)]: Done  46 tasks      | elapsed:  1.6min\n",
      "[Parallel(n_jobs=-1)]: Done 196 tasks      | elapsed:  9.3min\n",
      "[Parallel(n_jobs=-1)]: Done 405 out of 405 | elapsed: 19.1min finished\n"
     ]
    },
    {
     "name": "stdout",
     "output_type": "stream",
     "text": [
      "0.6004631052455613\n",
      "676623.0483369554\n",
      "317996.38851451856\n"
     ]
    },
    {
     "data": {
      "text/plain": [
       "{'alpha': 0.1, 'learning_rate': 0.1, 'max_depth': 5, 'n_estimators': 150}"
      ]
     },
     "execution_count": 68,
     "metadata": {},
     "output_type": "execute_result"
    }
   ],
   "source": [
    "model = train_eval(GradientBoostingRegressor(), gbm_params, *housing_2012_2016)\n",
    "model.best_params_"
   ]
  },
  {
   "cell_type": "code",
   "execution_count": 69,
   "metadata": {},
   "outputs": [
    {
     "name": "stdout",
     "output_type": "stream",
     "text": [
      "Fitting 5 folds for each of 12 candidates, totalling 60 fits\n"
     ]
    },
    {
     "name": "stderr",
     "output_type": "stream",
     "text": [
      "[Parallel(n_jobs=-1)]: Done  46 tasks      | elapsed:  6.9min\n",
      "[Parallel(n_jobs=-1)]: Done  60 out of  60 | elapsed:  8.8min finished\n"
     ]
    },
    {
     "name": "stdout",
     "output_type": "stream",
     "text": [
      "0.37341820178850116\n",
      "847339.0662304545\n",
      "453082.24740908336\n"
     ]
    },
    {
     "data": {
      "text/plain": [
       "{'learning_rate': 0.001, 'n_estimators': 500}"
      ]
     },
     "execution_count": 69,
     "metadata": {},
     "output_type": "execute_result"
    }
   ],
   "source": [
    "model = train_eval(AdaBoostRegressor(), ada_params, *housing_2012_2016)\n",
    "model.best_params_"
   ]
  },
  {
   "cell_type": "markdown",
   "metadata": {},
   "source": [
    "Now let's see what happens when we train only on 2015 data and test only against 2016 data. I would expect, at the very least, for the change to be more linear and less of a curve, and for linear regression to perform better than the previous result, although I would still expect our winning strategies (Random Forest, Gradient Boost) to continue to win."
   ]
  },
  {
   "cell_type": "code",
   "execution_count": 73,
   "metadata": {},
   "outputs": [],
   "source": [
    "housing_cleaned = drop_geog(clean_data.copy(), ['neighborhood'])\n",
    "one_hot = pd.get_dummies(housing_cleaned['neighborhood'])\n",
    "housing_cleaned = housing_cleaned.drop('neighborhood',axis = 1)\n",
    "\n",
    "housing_cleaned_2016 = housing_cleaned[housing_cleaned['lastsolddateint'] >= 1451606400.0]\n",
    "housing_cleaned_pre2016 = housing_cleaned[housing_cleaned['lastsolddateint'] < 1451606400.0]\n",
    "housing_cleaned_2015 = housing_cleaned_pre2016[housing_cleaned_pre2016['lastsolddateint'] >= 1420070400.0]\n",
    "\n",
    "X_train = housing_cleaned_2015.drop('lastsoldprice',axis = 1)\n",
    "y_train = housing_cleaned_2015['lastsoldprice']\n",
    "X_test = housing_cleaned_2016.drop('lastsoldprice',axis = 1)\n",
    "y_test = housing_cleaned_2016['lastsoldprice']\n",
    "\n",
    "scaler = StandardScaler()\n",
    "scaler.fit(X_train)\n",
    "X_train[X_train.columns] = scaler.transform(X_train[X_train.columns])\n",
    "X_train = X_train.join(one_hot)\n",
    "X_test[X_test.columns] = scaler.transform(X_test[X_test.columns])\n",
    "X_test = X_test.join(one_hot)\n",
    "\n",
    "housing_2015_2016 = (X_train, X_test, y_train, y_test)"
   ]
  },
  {
   "cell_type": "code",
   "execution_count": 75,
   "metadata": {},
   "outputs": [
    {
     "name": "stdout",
     "output_type": "stream",
     "text": [
      "Fitting 5 folds for each of 1 candidates, totalling 5 fits\n",
      "0.5220775448780501\n",
      "740026.1399612884\n",
      "422246.98021978023\n"
     ]
    },
    {
     "name": "stderr",
     "output_type": "stream",
     "text": [
      "[Parallel(n_jobs=-1)]: Done   5 out of   5 | elapsed:    0.2s finished\n"
     ]
    }
   ],
   "source": [
    "model = train_eval(LinearRegression(), empty_params, *housing_2015_2016)"
   ]
  },
  {
   "cell_type": "code",
   "execution_count": 76,
   "metadata": {},
   "outputs": [
    {
     "name": "stdout",
     "output_type": "stream",
     "text": [
      "Fitting 5 folds for each of 6 candidates, totalling 30 fits\n",
      "0.5235830311951659\n",
      "738859.6557632246\n",
      "419615.33090262173\n"
     ]
    },
    {
     "name": "stderr",
     "output_type": "stream",
     "text": [
      "[Parallel(n_jobs=-1)]: Done  30 out of  30 | elapsed:    0.2s finished\n"
     ]
    },
    {
     "data": {
      "text/plain": [
       "{'alpha': 1}"
      ]
     },
     "execution_count": 76,
     "metadata": {},
     "output_type": "execute_result"
    }
   ],
   "source": [
    "model = train_eval(Ridge(), ridge_params, *housing_2015_2016)\n",
    "model.best_params_"
   ]
  },
  {
   "cell_type": "code",
   "execution_count": 77,
   "metadata": {},
   "outputs": [
    {
     "name": "stdout",
     "output_type": "stream",
     "text": [
      "Fitting 5 folds for each of 10 candidates, totalling 50 fits\n"
     ]
    },
    {
     "name": "stderr",
     "output_type": "stream",
     "text": [
      "[Parallel(n_jobs=-1)]: Done  46 tasks      | elapsed:   18.2s\n"
     ]
    },
    {
     "name": "stdout",
     "output_type": "stream",
     "text": [
      "0.4290044613127838\n",
      "808881.1223387168\n",
      "405034.22901098896\n"
     ]
    },
    {
     "name": "stderr",
     "output_type": "stream",
     "text": [
      "[Parallel(n_jobs=-1)]: Done  50 out of  50 | elapsed:   21.2s finished\n"
     ]
    },
    {
     "data": {
      "text/plain": [
       "{'n_neighbors': 5}"
      ]
     },
     "execution_count": 77,
     "metadata": {},
     "output_type": "execute_result"
    }
   ],
   "source": [
    "model = train_eval(KNeighborsRegressor(), knn_params, *housing_2015_2016)\n",
    "model.best_params_"
   ]
  },
  {
   "cell_type": "code",
   "execution_count": 78,
   "metadata": {},
   "outputs": [
    {
     "name": "stdout",
     "output_type": "stream",
     "text": [
      "Fitting 5 folds for each of 1 candidates, totalling 5 fits\n",
      "0.22862390322116832\n",
      "940159.2664584508\n",
      "569296.4835164836\n"
     ]
    },
    {
     "name": "stderr",
     "output_type": "stream",
     "text": [
      "[Parallel(n_jobs=-1)]: Done   5 out of   5 | elapsed:    0.1s finished\n"
     ]
    }
   ],
   "source": [
    "model = train_eval(DecisionTreeRegressor(), tree_params,*housing_2015_2016)"
   ]
  },
  {
   "cell_type": "code",
   "execution_count": 79,
   "metadata": {},
   "outputs": [
    {
     "name": "stdout",
     "output_type": "stream",
     "text": [
      "Fitting 5 folds for each of 1 candidates, totalling 5 fits\n"
     ]
    },
    {
     "name": "stderr",
     "output_type": "stream",
     "text": [
      "[Parallel(n_jobs=-1)]: Done   5 out of   5 | elapsed:  3.7min finished\n"
     ]
    },
    {
     "name": "stdout",
     "output_type": "stream",
     "text": [
      "0.5968528631404892\n",
      "679673.1790971672\n",
      "358246.2596\n"
     ]
    },
    {
     "data": {
      "text/plain": [
       "{'max_depth': None, 'min_samples_split': 2, 'n_estimators': 1000}"
      ]
     },
     "execution_count": 79,
     "metadata": {},
     "output_type": "execute_result"
    }
   ],
   "source": [
    "model = train_eval(RandomForestRegressor(), forest_params, *housing_2015_2016)\n",
    "model.best_params_"
   ]
  },
  {
   "cell_type": "code",
   "execution_count": 80,
   "metadata": {},
   "outputs": [
    {
     "name": "stdout",
     "output_type": "stream",
     "text": [
      "Fitting 5 folds for each of 81 candidates, totalling 405 fits\n"
     ]
    },
    {
     "name": "stderr",
     "output_type": "stream",
     "text": [
      "[Parallel(n_jobs=-1)]: Done 104 tasks      | elapsed:   23.0s\n",
      "[Parallel(n_jobs=-1)]: Done 254 tasks      | elapsed:  3.2min\n",
      "[Parallel(n_jobs=-1)]: Done 405 out of 405 | elapsed:  4.9min finished\n"
     ]
    },
    {
     "name": "stdout",
     "output_type": "stream",
     "text": [
      "0.6232034804031745\n",
      "657085.3488877735\n",
      "327380.90366608376\n"
     ]
    },
    {
     "data": {
      "text/plain": [
       "{'alpha': 0.5, 'learning_rate': 0.1, 'max_depth': 5, 'n_estimators': 150}"
      ]
     },
     "execution_count": 80,
     "metadata": {},
     "output_type": "execute_result"
    }
   ],
   "source": [
    "model = train_eval(GradientBoostingRegressor(), gbm_params, *housing_2015_2016)\n",
    "model.best_params_"
   ]
  },
  {
   "cell_type": "code",
   "execution_count": 81,
   "metadata": {},
   "outputs": [
    {
     "name": "stdout",
     "output_type": "stream",
     "text": [
      "Fitting 5 folds for each of 12 candidates, totalling 60 fits\n"
     ]
    },
    {
     "name": "stderr",
     "output_type": "stream",
     "text": [
      "[Parallel(n_jobs=-1)]: Done  60 out of  60 | elapsed:  3.1min finished\n"
     ]
    },
    {
     "name": "stdout",
     "output_type": "stream",
     "text": [
      "0.3896101663915059\n",
      "836319.0477449143\n",
      "479988.37946960767\n"
     ]
    }
   ],
   "source": [
    "model = train_eval(AdaBoostRegressor(), ada_params, *housing_2015_2016)\n"
   ]
  },
  {
   "cell_type": "markdown",
   "metadata": {},
   "source": [
    "We can see from this that it is easier to predict what happened in the past than what will happen in the future (with this data and approach, anyway). Also, some algorithms provide substantially better after feature engineering and scaling than before. Finally, the overall takeaway here is that Random Forest and Gradient Boosted Machines tend to perform best, although K-Nearest Neighbors also performed suprisingly well--in some circumstances.\n",
    "\n",
    "Check out the other notebooks in this repo to see how other algorithms performed."
   ]
  },
  {
   "cell_type": "code",
   "execution_count": null,
   "metadata": {},
   "outputs": [],
   "source": []
  }
 ],
 "metadata": {
  "kernelspec": {
   "display_name": "conda_python3",
   "language": "python",
   "name": "conda_python3"
  },
  "language_info": {
   "codemirror_mode": {
    "name": "ipython",
    "version": 3
   },
   "file_extension": ".py",
   "mimetype": "text/x-python",
   "name": "python",
   "nbconvert_exporter": "python",
   "pygments_lexer": "ipython3",
   "version": "3.6.5"
  }
 },
 "nbformat": 4,
 "nbformat_minor": 2
}
